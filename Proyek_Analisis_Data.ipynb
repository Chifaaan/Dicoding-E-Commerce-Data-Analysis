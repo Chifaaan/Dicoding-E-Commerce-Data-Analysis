{
  "cells": [
    {
      "cell_type": "markdown",
      "metadata": {
        "id": "H9wADwK78DCz"
      },
      "source": [
        "# Proyek Analisis Data: [E-Commerce Public Dataset]\n",
        "- **Nama:** Muhammad Nur Irfan\n",
        "- **Email:** itzirfanmt@gmail.com\n",
        "- **ID Dicoding:** Muhammad Nur Irfan"
      ]
    },
    {
      "cell_type": "markdown",
      "metadata": {
        "id": "eE0raob58DC0"
      },
      "source": [
        "## Menentukan Pertanyaan Bisnis"
      ]
    },
    {
      "cell_type": "markdown",
      "metadata": {
        "id": "GmQeQ5YF8DC0"
      },
      "source": [
        "- Berapa Jumlah User Total saat ini ?\n",
        "- Bagaimana Status Order yang sedang terjadi saat ini ?\n",
        "- Bagaimana perkembangan order sampai saat ini ?\n",
        "- Bagaimana Persebaran Order Review sampai saat ini ?\n",
        "- Apa Kategory terbaik dan terburuk pada order ?\n",
        "- Apa Persebaran Negara asal Customer melakukan order ?\n",
        "- Bagaimana RFM Analysis terhadap data yang kita miliki ?"
      ]
    },
    {
      "cell_type": "markdown",
      "metadata": {
        "id": "H-z4QGlO8DC1"
      },
      "source": [
        "## Import Semua Packages/Library yang Digunakan"
      ]
    },
    {
      "cell_type": "code",
      "execution_count": 1,
      "metadata": {
        "id": "FVYwaObI8DC1"
      },
      "outputs": [],
      "source": [
        "import numpy as np\n",
        "import pandas as pd\n",
        "import matplotlib.pyplot as plt\n",
        "import seaborn as sns\n",
        "import folium"
      ]
    },
    {
      "cell_type": "markdown",
      "metadata": {
        "id": "h_Sh51Xy8DC1"
      },
      "source": [
        "## Data Wrangling"
      ]
    },
    {
      "cell_type": "markdown",
      "metadata": {
        "id": "sXU2GBYu8DC1"
      },
      "source": [
        "### Gathering Data"
      ]
    },
    {
      "cell_type": "code",
      "execution_count": 2,
      "metadata": {
        "colab": {
          "base_uri": "https://localhost:8080/",
          "height": 0
        },
        "id": "oKdXfdjnEMrf",
        "outputId": "5539a582-6a74-407e-a62c-dc7bcfddd924"
      },
      "outputs": [
        {
          "data": {
            "text/html": [
              "<div>\n",
              "<style scoped>\n",
              "    .dataframe tbody tr th:only-of-type {\n",
              "        vertical-align: middle;\n",
              "    }\n",
              "\n",
              "    .dataframe tbody tr th {\n",
              "        vertical-align: top;\n",
              "    }\n",
              "\n",
              "    .dataframe thead th {\n",
              "        text-align: right;\n",
              "    }\n",
              "</style>\n",
              "<table border=\"1\" class=\"dataframe\">\n",
              "  <thead>\n",
              "    <tr style=\"text-align: right;\">\n",
              "      <th></th>\n",
              "      <th>customer_id</th>\n",
              "      <th>customer_unique_id</th>\n",
              "      <th>customer_zip_code_prefix</th>\n",
              "      <th>customer_city</th>\n",
              "      <th>customer_state</th>\n",
              "    </tr>\n",
              "  </thead>\n",
              "  <tbody>\n",
              "    <tr>\n",
              "      <th>0</th>\n",
              "      <td>06b8999e2fba1a1fbc88172c00ba8bc7</td>\n",
              "      <td>861eff4711a542e4b93843c6dd7febb0</td>\n",
              "      <td>14409</td>\n",
              "      <td>franca</td>\n",
              "      <td>SP</td>\n",
              "    </tr>\n",
              "    <tr>\n",
              "      <th>1</th>\n",
              "      <td>18955e83d337fd6b2def6b18a428ac77</td>\n",
              "      <td>290c77bc529b7ac935b93aa66c333dc3</td>\n",
              "      <td>9790</td>\n",
              "      <td>sao bernardo do campo</td>\n",
              "      <td>SP</td>\n",
              "    </tr>\n",
              "    <tr>\n",
              "      <th>2</th>\n",
              "      <td>4e7b3e00288586ebd08712fdd0374a03</td>\n",
              "      <td>060e732b5b29e8181a18229c7b0b2b5e</td>\n",
              "      <td>1151</td>\n",
              "      <td>sao paulo</td>\n",
              "      <td>SP</td>\n",
              "    </tr>\n",
              "    <tr>\n",
              "      <th>3</th>\n",
              "      <td>b2b6027bc5c5109e529d4dc6358b12c3</td>\n",
              "      <td>259dac757896d24d7702b9acbbff3f3c</td>\n",
              "      <td>8775</td>\n",
              "      <td>mogi das cruzes</td>\n",
              "      <td>SP</td>\n",
              "    </tr>\n",
              "    <tr>\n",
              "      <th>4</th>\n",
              "      <td>4f2d8ab171c80ec8364f7c12e35b23ad</td>\n",
              "      <td>345ecd01c38d18a9036ed96c73b8d066</td>\n",
              "      <td>13056</td>\n",
              "      <td>campinas</td>\n",
              "      <td>SP</td>\n",
              "    </tr>\n",
              "  </tbody>\n",
              "</table>\n",
              "</div>"
            ],
            "text/plain": [
              "                        customer_id                customer_unique_id  \\\n",
              "0  06b8999e2fba1a1fbc88172c00ba8bc7  861eff4711a542e4b93843c6dd7febb0   \n",
              "1  18955e83d337fd6b2def6b18a428ac77  290c77bc529b7ac935b93aa66c333dc3   \n",
              "2  4e7b3e00288586ebd08712fdd0374a03  060e732b5b29e8181a18229c7b0b2b5e   \n",
              "3  b2b6027bc5c5109e529d4dc6358b12c3  259dac757896d24d7702b9acbbff3f3c   \n",
              "4  4f2d8ab171c80ec8364f7c12e35b23ad  345ecd01c38d18a9036ed96c73b8d066   \n",
              "\n",
              "   customer_zip_code_prefix          customer_city customer_state  \n",
              "0                     14409                 franca             SP  \n",
              "1                      9790  sao bernardo do campo             SP  \n",
              "2                      1151              sao paulo             SP  \n",
              "3                      8775        mogi das cruzes             SP  \n",
              "4                     13056               campinas             SP  "
            ]
          },
          "execution_count": 2,
          "metadata": {},
          "output_type": "execute_result"
        }
      ],
      "source": [
        "customers_df = pd.read_csv('data/customers_dataset.csv')\n",
        "customers_df.head()"
      ]
    },
    {
      "cell_type": "code",
      "execution_count": 3,
      "metadata": {
        "colab": {
          "base_uri": "https://localhost:8080/",
          "height": 0
        },
        "id": "MYECxZr7FPjy",
        "outputId": "4e0c4059-4427-4586-c3e2-761c96f48fc4"
      },
      "outputs": [
        {
          "data": {
            "text/html": [
              "<div>\n",
              "<style scoped>\n",
              "    .dataframe tbody tr th:only-of-type {\n",
              "        vertical-align: middle;\n",
              "    }\n",
              "\n",
              "    .dataframe tbody tr th {\n",
              "        vertical-align: top;\n",
              "    }\n",
              "\n",
              "    .dataframe thead th {\n",
              "        text-align: right;\n",
              "    }\n",
              "</style>\n",
              "<table border=\"1\" class=\"dataframe\">\n",
              "  <thead>\n",
              "    <tr style=\"text-align: right;\">\n",
              "      <th></th>\n",
              "      <th>geolocation_zip_code_prefix</th>\n",
              "      <th>geolocation_lat</th>\n",
              "      <th>geolocation_lng</th>\n",
              "      <th>geolocation_city</th>\n",
              "      <th>geolocation_state</th>\n",
              "    </tr>\n",
              "  </thead>\n",
              "  <tbody>\n",
              "    <tr>\n",
              "      <th>0</th>\n",
              "      <td>1037</td>\n",
              "      <td>-23.545621</td>\n",
              "      <td>-46.639292</td>\n",
              "      <td>sao paulo</td>\n",
              "      <td>SP</td>\n",
              "    </tr>\n",
              "    <tr>\n",
              "      <th>1</th>\n",
              "      <td>1046</td>\n",
              "      <td>-23.546081</td>\n",
              "      <td>-46.644820</td>\n",
              "      <td>sao paulo</td>\n",
              "      <td>SP</td>\n",
              "    </tr>\n",
              "    <tr>\n",
              "      <th>2</th>\n",
              "      <td>1046</td>\n",
              "      <td>-23.546129</td>\n",
              "      <td>-46.642951</td>\n",
              "      <td>sao paulo</td>\n",
              "      <td>SP</td>\n",
              "    </tr>\n",
              "    <tr>\n",
              "      <th>3</th>\n",
              "      <td>1041</td>\n",
              "      <td>-23.544392</td>\n",
              "      <td>-46.639499</td>\n",
              "      <td>sao paulo</td>\n",
              "      <td>SP</td>\n",
              "    </tr>\n",
              "    <tr>\n",
              "      <th>4</th>\n",
              "      <td>1035</td>\n",
              "      <td>-23.541578</td>\n",
              "      <td>-46.641607</td>\n",
              "      <td>sao paulo</td>\n",
              "      <td>SP</td>\n",
              "    </tr>\n",
              "  </tbody>\n",
              "</table>\n",
              "</div>"
            ],
            "text/plain": [
              "   geolocation_zip_code_prefix  geolocation_lat  geolocation_lng  \\\n",
              "0                         1037       -23.545621       -46.639292   \n",
              "1                         1046       -23.546081       -46.644820   \n",
              "2                         1046       -23.546129       -46.642951   \n",
              "3                         1041       -23.544392       -46.639499   \n",
              "4                         1035       -23.541578       -46.641607   \n",
              "\n",
              "  geolocation_city geolocation_state  \n",
              "0        sao paulo                SP  \n",
              "1        sao paulo                SP  \n",
              "2        sao paulo                SP  \n",
              "3        sao paulo                SP  \n",
              "4        sao paulo                SP  "
            ]
          },
          "execution_count": 3,
          "metadata": {},
          "output_type": "execute_result"
        }
      ],
      "source": [
        "geolocation_df = pd.read_csv('data/geolocation_dataset.csv')\n",
        "geolocation_df = geolocation_df.drop_duplicates() # Untuk meringankan proses komputasi karena banyak all_merge yang duplikat sehingga untuk melakukan keseluruhan proses dibutuhkan waktu yang cukup lama\n",
        "geolocation_df.head()"
      ]
    },
    {
      "cell_type": "code",
      "execution_count": 4,
      "metadata": {
        "colab": {
          "base_uri": "https://localhost:8080/",
          "height": 0
        },
        "id": "RYq1XJpkFdH2",
        "outputId": "640041ee-4f51-42f2-e35e-15a2e9bdba6d"
      },
      "outputs": [
        {
          "data": {
            "text/html": [
              "<div>\n",
              "<style scoped>\n",
              "    .dataframe tbody tr th:only-of-type {\n",
              "        vertical-align: middle;\n",
              "    }\n",
              "\n",
              "    .dataframe tbody tr th {\n",
              "        vertical-align: top;\n",
              "    }\n",
              "\n",
              "    .dataframe thead th {\n",
              "        text-align: right;\n",
              "    }\n",
              "</style>\n",
              "<table border=\"1\" class=\"dataframe\">\n",
              "  <thead>\n",
              "    <tr style=\"text-align: right;\">\n",
              "      <th></th>\n",
              "      <th>order_id</th>\n",
              "      <th>order_item_id</th>\n",
              "      <th>product_id</th>\n",
              "      <th>seller_id</th>\n",
              "      <th>shipping_limit_date</th>\n",
              "      <th>price</th>\n",
              "      <th>freight_value</th>\n",
              "    </tr>\n",
              "  </thead>\n",
              "  <tbody>\n",
              "    <tr>\n",
              "      <th>0</th>\n",
              "      <td>00010242fe8c5a6d1ba2dd792cb16214</td>\n",
              "      <td>1</td>\n",
              "      <td>4244733e06e7ecb4970a6e2683c13e61</td>\n",
              "      <td>48436dade18ac8b2bce089ec2a041202</td>\n",
              "      <td>2017-09-19 09:45:35</td>\n",
              "      <td>58.90</td>\n",
              "      <td>13.29</td>\n",
              "    </tr>\n",
              "    <tr>\n",
              "      <th>1</th>\n",
              "      <td>00018f77f2f0320c557190d7a144bdd3</td>\n",
              "      <td>1</td>\n",
              "      <td>e5f2d52b802189ee658865ca93d83a8f</td>\n",
              "      <td>dd7ddc04e1b6c2c614352b383efe2d36</td>\n",
              "      <td>2017-05-03 11:05:13</td>\n",
              "      <td>239.90</td>\n",
              "      <td>19.93</td>\n",
              "    </tr>\n",
              "    <tr>\n",
              "      <th>2</th>\n",
              "      <td>000229ec398224ef6ca0657da4fc703e</td>\n",
              "      <td>1</td>\n",
              "      <td>c777355d18b72b67abbeef9df44fd0fd</td>\n",
              "      <td>5b51032eddd242adc84c38acab88f23d</td>\n",
              "      <td>2018-01-18 14:48:30</td>\n",
              "      <td>199.00</td>\n",
              "      <td>17.87</td>\n",
              "    </tr>\n",
              "    <tr>\n",
              "      <th>3</th>\n",
              "      <td>00024acbcdf0a6daa1e931b038114c75</td>\n",
              "      <td>1</td>\n",
              "      <td>7634da152a4610f1595efa32f14722fc</td>\n",
              "      <td>9d7a1d34a5052409006425275ba1c2b4</td>\n",
              "      <td>2018-08-15 10:10:18</td>\n",
              "      <td>12.99</td>\n",
              "      <td>12.79</td>\n",
              "    </tr>\n",
              "    <tr>\n",
              "      <th>4</th>\n",
              "      <td>00042b26cf59d7ce69dfabb4e55b4fd9</td>\n",
              "      <td>1</td>\n",
              "      <td>ac6c3623068f30de03045865e4e10089</td>\n",
              "      <td>df560393f3a51e74553ab94004ba5c87</td>\n",
              "      <td>2017-02-13 13:57:51</td>\n",
              "      <td>199.90</td>\n",
              "      <td>18.14</td>\n",
              "    </tr>\n",
              "  </tbody>\n",
              "</table>\n",
              "</div>"
            ],
            "text/plain": [
              "                           order_id  order_item_id  \\\n",
              "0  00010242fe8c5a6d1ba2dd792cb16214              1   \n",
              "1  00018f77f2f0320c557190d7a144bdd3              1   \n",
              "2  000229ec398224ef6ca0657da4fc703e              1   \n",
              "3  00024acbcdf0a6daa1e931b038114c75              1   \n",
              "4  00042b26cf59d7ce69dfabb4e55b4fd9              1   \n",
              "\n",
              "                         product_id                         seller_id  \\\n",
              "0  4244733e06e7ecb4970a6e2683c13e61  48436dade18ac8b2bce089ec2a041202   \n",
              "1  e5f2d52b802189ee658865ca93d83a8f  dd7ddc04e1b6c2c614352b383efe2d36   \n",
              "2  c777355d18b72b67abbeef9df44fd0fd  5b51032eddd242adc84c38acab88f23d   \n",
              "3  7634da152a4610f1595efa32f14722fc  9d7a1d34a5052409006425275ba1c2b4   \n",
              "4  ac6c3623068f30de03045865e4e10089  df560393f3a51e74553ab94004ba5c87   \n",
              "\n",
              "   shipping_limit_date   price  freight_value  \n",
              "0  2017-09-19 09:45:35   58.90          13.29  \n",
              "1  2017-05-03 11:05:13  239.90          19.93  \n",
              "2  2018-01-18 14:48:30  199.00          17.87  \n",
              "3  2018-08-15 10:10:18   12.99          12.79  \n",
              "4  2017-02-13 13:57:51  199.90          18.14  "
            ]
          },
          "execution_count": 4,
          "metadata": {},
          "output_type": "execute_result"
        }
      ],
      "source": [
        "order_items_df = pd.read_csv('data/order_items_dataset.csv')\n",
        "order_items_df.head()"
      ]
    },
    {
      "cell_type": "code",
      "execution_count": 5,
      "metadata": {},
      "outputs": [
        {
          "data": {
            "text/html": [
              "<div>\n",
              "<style scoped>\n",
              "    .dataframe tbody tr th:only-of-type {\n",
              "        vertical-align: middle;\n",
              "    }\n",
              "\n",
              "    .dataframe tbody tr th {\n",
              "        vertical-align: top;\n",
              "    }\n",
              "\n",
              "    .dataframe thead th {\n",
              "        text-align: right;\n",
              "    }\n",
              "</style>\n",
              "<table border=\"1\" class=\"dataframe\">\n",
              "  <thead>\n",
              "    <tr style=\"text-align: right;\">\n",
              "      <th></th>\n",
              "      <th>order_id</th>\n",
              "      <th>order_item_id</th>\n",
              "      <th>product_id</th>\n",
              "      <th>seller_id</th>\n",
              "      <th>shipping_limit_date</th>\n",
              "      <th>price</th>\n",
              "      <th>freight_value</th>\n",
              "    </tr>\n",
              "  </thead>\n",
              "  <tbody>\n",
              "    <tr>\n",
              "      <th>0</th>\n",
              "      <td>00010242fe8c5a6d1ba2dd792cb16214</td>\n",
              "      <td>1</td>\n",
              "      <td>4244733e06e7ecb4970a6e2683c13e61</td>\n",
              "      <td>48436dade18ac8b2bce089ec2a041202</td>\n",
              "      <td>2017-09-19 09:45:35</td>\n",
              "      <td>58.90</td>\n",
              "      <td>13.29</td>\n",
              "    </tr>\n",
              "    <tr>\n",
              "      <th>1</th>\n",
              "      <td>00018f77f2f0320c557190d7a144bdd3</td>\n",
              "      <td>1</td>\n",
              "      <td>e5f2d52b802189ee658865ca93d83a8f</td>\n",
              "      <td>dd7ddc04e1b6c2c614352b383efe2d36</td>\n",
              "      <td>2017-05-03 11:05:13</td>\n",
              "      <td>239.90</td>\n",
              "      <td>19.93</td>\n",
              "    </tr>\n",
              "    <tr>\n",
              "      <th>2</th>\n",
              "      <td>000229ec398224ef6ca0657da4fc703e</td>\n",
              "      <td>1</td>\n",
              "      <td>c777355d18b72b67abbeef9df44fd0fd</td>\n",
              "      <td>5b51032eddd242adc84c38acab88f23d</td>\n",
              "      <td>2018-01-18 14:48:30</td>\n",
              "      <td>199.00</td>\n",
              "      <td>17.87</td>\n",
              "    </tr>\n",
              "    <tr>\n",
              "      <th>3</th>\n",
              "      <td>00024acbcdf0a6daa1e931b038114c75</td>\n",
              "      <td>1</td>\n",
              "      <td>7634da152a4610f1595efa32f14722fc</td>\n",
              "      <td>9d7a1d34a5052409006425275ba1c2b4</td>\n",
              "      <td>2018-08-15 10:10:18</td>\n",
              "      <td>12.99</td>\n",
              "      <td>12.79</td>\n",
              "    </tr>\n",
              "    <tr>\n",
              "      <th>4</th>\n",
              "      <td>00042b26cf59d7ce69dfabb4e55b4fd9</td>\n",
              "      <td>1</td>\n",
              "      <td>ac6c3623068f30de03045865e4e10089</td>\n",
              "      <td>df560393f3a51e74553ab94004ba5c87</td>\n",
              "      <td>2017-02-13 13:57:51</td>\n",
              "      <td>199.90</td>\n",
              "      <td>18.14</td>\n",
              "    </tr>\n",
              "  </tbody>\n",
              "</table>\n",
              "</div>"
            ],
            "text/plain": [
              "                           order_id  order_item_id  \\\n",
              "0  00010242fe8c5a6d1ba2dd792cb16214              1   \n",
              "1  00018f77f2f0320c557190d7a144bdd3              1   \n",
              "2  000229ec398224ef6ca0657da4fc703e              1   \n",
              "3  00024acbcdf0a6daa1e931b038114c75              1   \n",
              "4  00042b26cf59d7ce69dfabb4e55b4fd9              1   \n",
              "\n",
              "                         product_id                         seller_id  \\\n",
              "0  4244733e06e7ecb4970a6e2683c13e61  48436dade18ac8b2bce089ec2a041202   \n",
              "1  e5f2d52b802189ee658865ca93d83a8f  dd7ddc04e1b6c2c614352b383efe2d36   \n",
              "2  c777355d18b72b67abbeef9df44fd0fd  5b51032eddd242adc84c38acab88f23d   \n",
              "3  7634da152a4610f1595efa32f14722fc  9d7a1d34a5052409006425275ba1c2b4   \n",
              "4  ac6c3623068f30de03045865e4e10089  df560393f3a51e74553ab94004ba5c87   \n",
              "\n",
              "   shipping_limit_date   price  freight_value  \n",
              "0  2017-09-19 09:45:35   58.90          13.29  \n",
              "1  2017-05-03 11:05:13  239.90          19.93  \n",
              "2  2018-01-18 14:48:30  199.00          17.87  \n",
              "3  2018-08-15 10:10:18   12.99          12.79  \n",
              "4  2017-02-13 13:57:51  199.90          18.14  "
            ]
          },
          "execution_count": 5,
          "metadata": {},
          "output_type": "execute_result"
        }
      ],
      "source": [
        "order_payments_df = pd.read_csv('data/order_payments_dataset.csv')\n",
        "order_items_df.head()"
      ]
    },
    {
      "cell_type": "code",
      "execution_count": 6,
      "metadata": {
        "colab": {
          "base_uri": "https://localhost:8080/",
          "height": 0
        },
        "id": "96X5L_6cFj83",
        "outputId": "eee7018b-fef3-469c-f508-d1783beaccc1"
      },
      "outputs": [
        {
          "data": {
            "text/html": [
              "<div>\n",
              "<style scoped>\n",
              "    .dataframe tbody tr th:only-of-type {\n",
              "        vertical-align: middle;\n",
              "    }\n",
              "\n",
              "    .dataframe tbody tr th {\n",
              "        vertical-align: top;\n",
              "    }\n",
              "\n",
              "    .dataframe thead th {\n",
              "        text-align: right;\n",
              "    }\n",
              "</style>\n",
              "<table border=\"1\" class=\"dataframe\">\n",
              "  <thead>\n",
              "    <tr style=\"text-align: right;\">\n",
              "      <th></th>\n",
              "      <th>review_id</th>\n",
              "      <th>order_id</th>\n",
              "      <th>review_score</th>\n",
              "      <th>review_comment_title</th>\n",
              "      <th>review_comment_message</th>\n",
              "      <th>review_creation_date</th>\n",
              "      <th>review_answer_timestamp</th>\n",
              "    </tr>\n",
              "  </thead>\n",
              "  <tbody>\n",
              "    <tr>\n",
              "      <th>0</th>\n",
              "      <td>7bc2406110b926393aa56f80a40eba40</td>\n",
              "      <td>73fc7af87114b39712e6da79b0a377eb</td>\n",
              "      <td>4</td>\n",
              "      <td>NaN</td>\n",
              "      <td>NaN</td>\n",
              "      <td>2018-01-18 00:00:00</td>\n",
              "      <td>2018-01-18 21:46:59</td>\n",
              "    </tr>\n",
              "    <tr>\n",
              "      <th>1</th>\n",
              "      <td>80e641a11e56f04c1ad469d5645fdfde</td>\n",
              "      <td>a548910a1c6147796b98fdf73dbeba33</td>\n",
              "      <td>5</td>\n",
              "      <td>NaN</td>\n",
              "      <td>NaN</td>\n",
              "      <td>2018-03-10 00:00:00</td>\n",
              "      <td>2018-03-11 03:05:13</td>\n",
              "    </tr>\n",
              "    <tr>\n",
              "      <th>2</th>\n",
              "      <td>228ce5500dc1d8e020d8d1322874b6f0</td>\n",
              "      <td>f9e4b658b201a9f2ecdecbb34bed034b</td>\n",
              "      <td>5</td>\n",
              "      <td>NaN</td>\n",
              "      <td>NaN</td>\n",
              "      <td>2018-02-17 00:00:00</td>\n",
              "      <td>2018-02-18 14:36:24</td>\n",
              "    </tr>\n",
              "    <tr>\n",
              "      <th>3</th>\n",
              "      <td>e64fb393e7b32834bb789ff8bb30750e</td>\n",
              "      <td>658677c97b385a9be170737859d3511b</td>\n",
              "      <td>5</td>\n",
              "      <td>NaN</td>\n",
              "      <td>Recebi bem antes do prazo estipulado.</td>\n",
              "      <td>2017-04-21 00:00:00</td>\n",
              "      <td>2017-04-21 22:02:06</td>\n",
              "    </tr>\n",
              "    <tr>\n",
              "      <th>4</th>\n",
              "      <td>f7c4243c7fe1938f181bec41a392bdeb</td>\n",
              "      <td>8e6bfb81e283fa7e4f11123a3fb894f1</td>\n",
              "      <td>5</td>\n",
              "      <td>NaN</td>\n",
              "      <td>Parabéns lojas lannister adorei comprar pela I...</td>\n",
              "      <td>2018-03-01 00:00:00</td>\n",
              "      <td>2018-03-02 10:26:53</td>\n",
              "    </tr>\n",
              "  </tbody>\n",
              "</table>\n",
              "</div>"
            ],
            "text/plain": [
              "                          review_id                          order_id  \\\n",
              "0  7bc2406110b926393aa56f80a40eba40  73fc7af87114b39712e6da79b0a377eb   \n",
              "1  80e641a11e56f04c1ad469d5645fdfde  a548910a1c6147796b98fdf73dbeba33   \n",
              "2  228ce5500dc1d8e020d8d1322874b6f0  f9e4b658b201a9f2ecdecbb34bed034b   \n",
              "3  e64fb393e7b32834bb789ff8bb30750e  658677c97b385a9be170737859d3511b   \n",
              "4  f7c4243c7fe1938f181bec41a392bdeb  8e6bfb81e283fa7e4f11123a3fb894f1   \n",
              "\n",
              "   review_score review_comment_title  \\\n",
              "0             4                  NaN   \n",
              "1             5                  NaN   \n",
              "2             5                  NaN   \n",
              "3             5                  NaN   \n",
              "4             5                  NaN   \n",
              "\n",
              "                              review_comment_message review_creation_date  \\\n",
              "0                                                NaN  2018-01-18 00:00:00   \n",
              "1                                                NaN  2018-03-10 00:00:00   \n",
              "2                                                NaN  2018-02-17 00:00:00   \n",
              "3              Recebi bem antes do prazo estipulado.  2017-04-21 00:00:00   \n",
              "4  Parabéns lojas lannister adorei comprar pela I...  2018-03-01 00:00:00   \n",
              "\n",
              "  review_answer_timestamp  \n",
              "0     2018-01-18 21:46:59  \n",
              "1     2018-03-11 03:05:13  \n",
              "2     2018-02-18 14:36:24  \n",
              "3     2017-04-21 22:02:06  \n",
              "4     2018-03-02 10:26:53  "
            ]
          },
          "execution_count": 6,
          "metadata": {},
          "output_type": "execute_result"
        }
      ],
      "source": [
        "order_reviews_df = pd.read_csv('data/order_reviews_dataset.csv')\n",
        "order_reviews_df.head()"
      ]
    },
    {
      "cell_type": "code",
      "execution_count": 7,
      "metadata": {
        "colab": {
          "base_uri": "https://localhost:8080/",
          "height": 0
        },
        "id": "nOCTbutJFmF0",
        "outputId": "165e1020-3e59-4b85-cf2c-244309e02c72"
      },
      "outputs": [
        {
          "data": {
            "text/html": [
              "<div>\n",
              "<style scoped>\n",
              "    .dataframe tbody tr th:only-of-type {\n",
              "        vertical-align: middle;\n",
              "    }\n",
              "\n",
              "    .dataframe tbody tr th {\n",
              "        vertical-align: top;\n",
              "    }\n",
              "\n",
              "    .dataframe thead th {\n",
              "        text-align: right;\n",
              "    }\n",
              "</style>\n",
              "<table border=\"1\" class=\"dataframe\">\n",
              "  <thead>\n",
              "    <tr style=\"text-align: right;\">\n",
              "      <th></th>\n",
              "      <th>order_id</th>\n",
              "      <th>customer_id</th>\n",
              "      <th>order_status</th>\n",
              "      <th>order_purchase_timestamp</th>\n",
              "      <th>order_approved_at</th>\n",
              "      <th>order_delivered_carrier_date</th>\n",
              "      <th>order_delivered_customer_date</th>\n",
              "      <th>order_estimated_delivery_date</th>\n",
              "    </tr>\n",
              "  </thead>\n",
              "  <tbody>\n",
              "    <tr>\n",
              "      <th>0</th>\n",
              "      <td>e481f51cbdc54678b7cc49136f2d6af7</td>\n",
              "      <td>9ef432eb6251297304e76186b10a928d</td>\n",
              "      <td>delivered</td>\n",
              "      <td>2017-10-02 10:56:33</td>\n",
              "      <td>2017-10-02 11:07:15</td>\n",
              "      <td>2017-10-04 19:55:00</td>\n",
              "      <td>2017-10-10 21:25:13</td>\n",
              "      <td>2017-10-18 00:00:00</td>\n",
              "    </tr>\n",
              "    <tr>\n",
              "      <th>1</th>\n",
              "      <td>53cdb2fc8bc7dce0b6741e2150273451</td>\n",
              "      <td>b0830fb4747a6c6d20dea0b8c802d7ef</td>\n",
              "      <td>delivered</td>\n",
              "      <td>2018-07-24 20:41:37</td>\n",
              "      <td>2018-07-26 03:24:27</td>\n",
              "      <td>2018-07-26 14:31:00</td>\n",
              "      <td>2018-08-07 15:27:45</td>\n",
              "      <td>2018-08-13 00:00:00</td>\n",
              "    </tr>\n",
              "    <tr>\n",
              "      <th>2</th>\n",
              "      <td>47770eb9100c2d0c44946d9cf07ec65d</td>\n",
              "      <td>41ce2a54c0b03bf3443c3d931a367089</td>\n",
              "      <td>delivered</td>\n",
              "      <td>2018-08-08 08:38:49</td>\n",
              "      <td>2018-08-08 08:55:23</td>\n",
              "      <td>2018-08-08 13:50:00</td>\n",
              "      <td>2018-08-17 18:06:29</td>\n",
              "      <td>2018-09-04 00:00:00</td>\n",
              "    </tr>\n",
              "    <tr>\n",
              "      <th>3</th>\n",
              "      <td>949d5b44dbf5de918fe9c16f97b45f8a</td>\n",
              "      <td>f88197465ea7920adcdbec7375364d82</td>\n",
              "      <td>delivered</td>\n",
              "      <td>2017-11-18 19:28:06</td>\n",
              "      <td>2017-11-18 19:45:59</td>\n",
              "      <td>2017-11-22 13:39:59</td>\n",
              "      <td>2017-12-02 00:28:42</td>\n",
              "      <td>2017-12-15 00:00:00</td>\n",
              "    </tr>\n",
              "    <tr>\n",
              "      <th>4</th>\n",
              "      <td>ad21c59c0840e6cb83a9ceb5573f8159</td>\n",
              "      <td>8ab97904e6daea8866dbdbc4fb7aad2c</td>\n",
              "      <td>delivered</td>\n",
              "      <td>2018-02-13 21:18:39</td>\n",
              "      <td>2018-02-13 22:20:29</td>\n",
              "      <td>2018-02-14 19:46:34</td>\n",
              "      <td>2018-02-16 18:17:02</td>\n",
              "      <td>2018-02-26 00:00:00</td>\n",
              "    </tr>\n",
              "  </tbody>\n",
              "</table>\n",
              "</div>"
            ],
            "text/plain": [
              "                           order_id                       customer_id  \\\n",
              "0  e481f51cbdc54678b7cc49136f2d6af7  9ef432eb6251297304e76186b10a928d   \n",
              "1  53cdb2fc8bc7dce0b6741e2150273451  b0830fb4747a6c6d20dea0b8c802d7ef   \n",
              "2  47770eb9100c2d0c44946d9cf07ec65d  41ce2a54c0b03bf3443c3d931a367089   \n",
              "3  949d5b44dbf5de918fe9c16f97b45f8a  f88197465ea7920adcdbec7375364d82   \n",
              "4  ad21c59c0840e6cb83a9ceb5573f8159  8ab97904e6daea8866dbdbc4fb7aad2c   \n",
              "\n",
              "  order_status order_purchase_timestamp    order_approved_at  \\\n",
              "0    delivered      2017-10-02 10:56:33  2017-10-02 11:07:15   \n",
              "1    delivered      2018-07-24 20:41:37  2018-07-26 03:24:27   \n",
              "2    delivered      2018-08-08 08:38:49  2018-08-08 08:55:23   \n",
              "3    delivered      2017-11-18 19:28:06  2017-11-18 19:45:59   \n",
              "4    delivered      2018-02-13 21:18:39  2018-02-13 22:20:29   \n",
              "\n",
              "  order_delivered_carrier_date order_delivered_customer_date  \\\n",
              "0          2017-10-04 19:55:00           2017-10-10 21:25:13   \n",
              "1          2018-07-26 14:31:00           2018-08-07 15:27:45   \n",
              "2          2018-08-08 13:50:00           2018-08-17 18:06:29   \n",
              "3          2017-11-22 13:39:59           2017-12-02 00:28:42   \n",
              "4          2018-02-14 19:46:34           2018-02-16 18:17:02   \n",
              "\n",
              "  order_estimated_delivery_date  \n",
              "0           2017-10-18 00:00:00  \n",
              "1           2018-08-13 00:00:00  \n",
              "2           2018-09-04 00:00:00  \n",
              "3           2017-12-15 00:00:00  \n",
              "4           2018-02-26 00:00:00  "
            ]
          },
          "execution_count": 7,
          "metadata": {},
          "output_type": "execute_result"
        }
      ],
      "source": [
        "orders_dataset_df = pd.read_csv('data/orders_dataset.csv')\n",
        "orders_dataset_df.head()"
      ]
    },
    {
      "cell_type": "code",
      "execution_count": 8,
      "metadata": {
        "colab": {
          "base_uri": "https://localhost:8080/",
          "height": 0
        },
        "id": "Q3xZJg6LFpMH",
        "outputId": "d847d9e6-8153-46db-c946-957d861e0cc9"
      },
      "outputs": [
        {
          "data": {
            "text/html": [
              "<div>\n",
              "<style scoped>\n",
              "    .dataframe tbody tr th:only-of-type {\n",
              "        vertical-align: middle;\n",
              "    }\n",
              "\n",
              "    .dataframe tbody tr th {\n",
              "        vertical-align: top;\n",
              "    }\n",
              "\n",
              "    .dataframe thead th {\n",
              "        text-align: right;\n",
              "    }\n",
              "</style>\n",
              "<table border=\"1\" class=\"dataframe\">\n",
              "  <thead>\n",
              "    <tr style=\"text-align: right;\">\n",
              "      <th></th>\n",
              "      <th>product_category_name</th>\n",
              "      <th>product_category_name_english</th>\n",
              "    </tr>\n",
              "  </thead>\n",
              "  <tbody>\n",
              "    <tr>\n",
              "      <th>0</th>\n",
              "      <td>beleza_saude</td>\n",
              "      <td>health_beauty</td>\n",
              "    </tr>\n",
              "    <tr>\n",
              "      <th>1</th>\n",
              "      <td>informatica_acessorios</td>\n",
              "      <td>computers_accessories</td>\n",
              "    </tr>\n",
              "    <tr>\n",
              "      <th>2</th>\n",
              "      <td>automotivo</td>\n",
              "      <td>auto</td>\n",
              "    </tr>\n",
              "    <tr>\n",
              "      <th>3</th>\n",
              "      <td>cama_mesa_banho</td>\n",
              "      <td>bed_bath_table</td>\n",
              "    </tr>\n",
              "    <tr>\n",
              "      <th>4</th>\n",
              "      <td>moveis_decoracao</td>\n",
              "      <td>furniture_decor</td>\n",
              "    </tr>\n",
              "  </tbody>\n",
              "</table>\n",
              "</div>"
            ],
            "text/plain": [
              "    product_category_name product_category_name_english\n",
              "0            beleza_saude                 health_beauty\n",
              "1  informatica_acessorios         computers_accessories\n",
              "2              automotivo                          auto\n",
              "3         cama_mesa_banho                bed_bath_table\n",
              "4        moveis_decoracao               furniture_decor"
            ]
          },
          "execution_count": 8,
          "metadata": {},
          "output_type": "execute_result"
        }
      ],
      "source": [
        "product_category_name_df = pd.read_csv('data/product_category_name_translation.csv')\n",
        "product_category_name_df.head()"
      ]
    },
    {
      "cell_type": "code",
      "execution_count": 9,
      "metadata": {
        "colab": {
          "base_uri": "https://localhost:8080/",
          "height": 0
        },
        "id": "tTFzDA3ZFq0k",
        "outputId": "5a38d75a-4b67-4464-b286-5d302412d126"
      },
      "outputs": [
        {
          "data": {
            "text/html": [
              "<div>\n",
              "<style scoped>\n",
              "    .dataframe tbody tr th:only-of-type {\n",
              "        vertical-align: middle;\n",
              "    }\n",
              "\n",
              "    .dataframe tbody tr th {\n",
              "        vertical-align: top;\n",
              "    }\n",
              "\n",
              "    .dataframe thead th {\n",
              "        text-align: right;\n",
              "    }\n",
              "</style>\n",
              "<table border=\"1\" class=\"dataframe\">\n",
              "  <thead>\n",
              "    <tr style=\"text-align: right;\">\n",
              "      <th></th>\n",
              "      <th>product_id</th>\n",
              "      <th>product_category_name</th>\n",
              "      <th>product_name_lenght</th>\n",
              "      <th>product_description_lenght</th>\n",
              "      <th>product_photos_qty</th>\n",
              "      <th>product_weight_g</th>\n",
              "      <th>product_length_cm</th>\n",
              "      <th>product_height_cm</th>\n",
              "      <th>product_width_cm</th>\n",
              "    </tr>\n",
              "  </thead>\n",
              "  <tbody>\n",
              "    <tr>\n",
              "      <th>0</th>\n",
              "      <td>1e9e8ef04dbcff4541ed26657ea517e5</td>\n",
              "      <td>perfumaria</td>\n",
              "      <td>40.0</td>\n",
              "      <td>287.0</td>\n",
              "      <td>1.0</td>\n",
              "      <td>225.0</td>\n",
              "      <td>16.0</td>\n",
              "      <td>10.0</td>\n",
              "      <td>14.0</td>\n",
              "    </tr>\n",
              "    <tr>\n",
              "      <th>1</th>\n",
              "      <td>3aa071139cb16b67ca9e5dea641aaa2f</td>\n",
              "      <td>artes</td>\n",
              "      <td>44.0</td>\n",
              "      <td>276.0</td>\n",
              "      <td>1.0</td>\n",
              "      <td>1000.0</td>\n",
              "      <td>30.0</td>\n",
              "      <td>18.0</td>\n",
              "      <td>20.0</td>\n",
              "    </tr>\n",
              "    <tr>\n",
              "      <th>2</th>\n",
              "      <td>96bd76ec8810374ed1b65e291975717f</td>\n",
              "      <td>esporte_lazer</td>\n",
              "      <td>46.0</td>\n",
              "      <td>250.0</td>\n",
              "      <td>1.0</td>\n",
              "      <td>154.0</td>\n",
              "      <td>18.0</td>\n",
              "      <td>9.0</td>\n",
              "      <td>15.0</td>\n",
              "    </tr>\n",
              "    <tr>\n",
              "      <th>3</th>\n",
              "      <td>cef67bcfe19066a932b7673e239eb23d</td>\n",
              "      <td>bebes</td>\n",
              "      <td>27.0</td>\n",
              "      <td>261.0</td>\n",
              "      <td>1.0</td>\n",
              "      <td>371.0</td>\n",
              "      <td>26.0</td>\n",
              "      <td>4.0</td>\n",
              "      <td>26.0</td>\n",
              "    </tr>\n",
              "    <tr>\n",
              "      <th>4</th>\n",
              "      <td>9dc1a7de274444849c219cff195d0b71</td>\n",
              "      <td>utilidades_domesticas</td>\n",
              "      <td>37.0</td>\n",
              "      <td>402.0</td>\n",
              "      <td>4.0</td>\n",
              "      <td>625.0</td>\n",
              "      <td>20.0</td>\n",
              "      <td>17.0</td>\n",
              "      <td>13.0</td>\n",
              "    </tr>\n",
              "  </tbody>\n",
              "</table>\n",
              "</div>"
            ],
            "text/plain": [
              "                         product_id  product_category_name  \\\n",
              "0  1e9e8ef04dbcff4541ed26657ea517e5             perfumaria   \n",
              "1  3aa071139cb16b67ca9e5dea641aaa2f                  artes   \n",
              "2  96bd76ec8810374ed1b65e291975717f          esporte_lazer   \n",
              "3  cef67bcfe19066a932b7673e239eb23d                  bebes   \n",
              "4  9dc1a7de274444849c219cff195d0b71  utilidades_domesticas   \n",
              "\n",
              "   product_name_lenght  product_description_lenght  product_photos_qty  \\\n",
              "0                 40.0                       287.0                 1.0   \n",
              "1                 44.0                       276.0                 1.0   \n",
              "2                 46.0                       250.0                 1.0   \n",
              "3                 27.0                       261.0                 1.0   \n",
              "4                 37.0                       402.0                 4.0   \n",
              "\n",
              "   product_weight_g  product_length_cm  product_height_cm  product_width_cm  \n",
              "0             225.0               16.0               10.0              14.0  \n",
              "1            1000.0               30.0               18.0              20.0  \n",
              "2             154.0               18.0                9.0              15.0  \n",
              "3             371.0               26.0                4.0              26.0  \n",
              "4             625.0               20.0               17.0              13.0  "
            ]
          },
          "execution_count": 9,
          "metadata": {},
          "output_type": "execute_result"
        }
      ],
      "source": [
        "product_dataset_df = pd.read_csv('data/products_dataset.csv')\n",
        "product_dataset_df.head()"
      ]
    },
    {
      "cell_type": "code",
      "execution_count": 10,
      "metadata": {
        "colab": {
          "base_uri": "https://localhost:8080/",
          "height": 0
        },
        "id": "477wEbZNFs3c",
        "outputId": "c9edcbc6-98b4-4894-ca8f-cf7e2d0940c1"
      },
      "outputs": [
        {
          "data": {
            "text/html": [
              "<div>\n",
              "<style scoped>\n",
              "    .dataframe tbody tr th:only-of-type {\n",
              "        vertical-align: middle;\n",
              "    }\n",
              "\n",
              "    .dataframe tbody tr th {\n",
              "        vertical-align: top;\n",
              "    }\n",
              "\n",
              "    .dataframe thead th {\n",
              "        text-align: right;\n",
              "    }\n",
              "</style>\n",
              "<table border=\"1\" class=\"dataframe\">\n",
              "  <thead>\n",
              "    <tr style=\"text-align: right;\">\n",
              "      <th></th>\n",
              "      <th>seller_id</th>\n",
              "      <th>seller_zip_code_prefix</th>\n",
              "      <th>seller_city</th>\n",
              "      <th>seller_state</th>\n",
              "    </tr>\n",
              "  </thead>\n",
              "  <tbody>\n",
              "    <tr>\n",
              "      <th>0</th>\n",
              "      <td>3442f8959a84dea7ee197c632cb2df15</td>\n",
              "      <td>13023</td>\n",
              "      <td>campinas</td>\n",
              "      <td>SP</td>\n",
              "    </tr>\n",
              "    <tr>\n",
              "      <th>1</th>\n",
              "      <td>d1b65fc7debc3361ea86b5f14c68d2e2</td>\n",
              "      <td>13844</td>\n",
              "      <td>mogi guacu</td>\n",
              "      <td>SP</td>\n",
              "    </tr>\n",
              "    <tr>\n",
              "      <th>2</th>\n",
              "      <td>ce3ad9de960102d0677a81f5d0bb7b2d</td>\n",
              "      <td>20031</td>\n",
              "      <td>rio de janeiro</td>\n",
              "      <td>RJ</td>\n",
              "    </tr>\n",
              "    <tr>\n",
              "      <th>3</th>\n",
              "      <td>c0f3eea2e14555b6faeea3dd58c1b1c3</td>\n",
              "      <td>4195</td>\n",
              "      <td>sao paulo</td>\n",
              "      <td>SP</td>\n",
              "    </tr>\n",
              "    <tr>\n",
              "      <th>4</th>\n",
              "      <td>51a04a8a6bdcb23deccc82b0b80742cf</td>\n",
              "      <td>12914</td>\n",
              "      <td>braganca paulista</td>\n",
              "      <td>SP</td>\n",
              "    </tr>\n",
              "  </tbody>\n",
              "</table>\n",
              "</div>"
            ],
            "text/plain": [
              "                          seller_id  seller_zip_code_prefix  \\\n",
              "0  3442f8959a84dea7ee197c632cb2df15                   13023   \n",
              "1  d1b65fc7debc3361ea86b5f14c68d2e2                   13844   \n",
              "2  ce3ad9de960102d0677a81f5d0bb7b2d                   20031   \n",
              "3  c0f3eea2e14555b6faeea3dd58c1b1c3                    4195   \n",
              "4  51a04a8a6bdcb23deccc82b0b80742cf                   12914   \n",
              "\n",
              "         seller_city seller_state  \n",
              "0           campinas           SP  \n",
              "1         mogi guacu           SP  \n",
              "2     rio de janeiro           RJ  \n",
              "3          sao paulo           SP  \n",
              "4  braganca paulista           SP  "
            ]
          },
          "execution_count": 10,
          "metadata": {},
          "output_type": "execute_result"
        }
      ],
      "source": [
        "sellers_dataset_df = pd.read_csv('data/sellers_dataset.csv')\n",
        "sellers_dataset_df.head()"
      ]
    },
    {
      "cell_type": "markdown",
      "metadata": {},
      "source": [
        "Berdasarkan Dataset yang tersedia, dataset yang dapat menjawab pertanyaan bisnis adalah :\n",
        "- **Dataset Customers** :\n",
        "1. customers_id = sebagai ID Merge\n",
        "2. customer_unique_id = mengetahui jumlah customer\n",
        "3. customers_state = mengetahaui persebaran customer\n",
        "4. customer_zip_code_prefix = mengambil kordinat customer & sebagai ID Merge\n",
        "\n",
        "- **Dataset Geolocation** :\n",
        "1. geolocation_zip_code_prefix = mengambil kordinat customer\n",
        "2. geolocation_lat = mengambil kordinat latitude customer\n",
        "3. geolocation_lng = mengambil kordinat longitude customer\n",
        "\n",
        "- **Dataset Orders Item** :\n",
        "1. order_id = menghitung banyak order & sebagai ID merge\n",
        "2. product_id = mengetahui product yang terjual\n",
        "3. price = menghitung revenue \n",
        "4. seller_id = mengetahui seller yang berperan besar dalam penjualan\n",
        "\n",
        "- **Dataset Orders Dataset** :\n",
        "1. order_id = sebagai ID merge\n",
        "2. customer_id = mengetahui customer yang valid melakukan order\n",
        "3. order_status = mengetahui status order\n",
        "4. order_approved_at = mengetahui order yang valid + mengetahui waktu order\n",
        "\n",
        "- **Dataset Products** :\n",
        "1. product_id = sebagai ID merge\n",
        "2. product_category_name = mengetahui nama kategori\n",
        "\n",
        "- **Dataset Product category name translation** :\n",
        "1. product_category_name = sebagai ID merge\n",
        "2. product_category_name_english = mengetahui nama kategori dalam ingris\n",
        "\n",
        "- **Dataset Order Review** : \n",
        "1. order_id = sebagai ID merge\n",
        "2. review_score = mengetahui review score dari order"
      ]
    },
    {
      "cell_type": "markdown",
      "metadata": {},
      "source": [
        "Berikut adalah Skema yang diperlukan untuk melakukan Merge"
      ]
    },
    {
      "attachments": {
        "Dicoding Ecommerce.png": {
          "image/png": "[encoded data removed]"
        }
      },
      "cell_type": "markdown",
      "metadata": {},
      "source": [
        "![Dicoding Ecommerce.png](<attachment:Dicoding Ecommerce.png>)"
      ]
    },
    {
      "cell_type": "markdown",
      "metadata": {},
      "source": [
        "**Proses Merge Data**"
      ]
    },
    {
      "cell_type": "code",
      "execution_count": 11,
      "metadata": {},
      "outputs": [
        {
          "name": "stdout",
          "output_type": "stream",
          "text": [
            "<class 'pandas.core.frame.DataFrame'>\n",
            "RangeIndex: 32951 entries, 0 to 32950\n",
            "Data columns (total 3 columns):\n",
            " #   Column                         Non-Null Count  Dtype \n",
            "---  ------                         --------------  ----- \n",
            " 0   product_category_name          32341 non-null  object\n",
            " 1   product_category_name_english  32328 non-null  object\n",
            " 2   product_id                     32951 non-null  object\n",
            "dtypes: object(3)\n",
            "memory usage: 772.4+ KB\n"
          ]
        }
      ],
      "source": [
        "#Menggabungkan product_category_name_df dengan product_dataset_df\n",
        "merge1 = pd.merge(product_category_name_df, product_dataset_df[['product_id', 'product_category_name']], on=\"product_category_name\", how=\"right\")\n",
        "merge1.info()"
      ]
    },
    {
      "cell_type": "code",
      "execution_count": 12,
      "metadata": {},
      "outputs": [],
      "source": [
        "#Menggabungkan geolocation_df dengan customers_df\n",
        "merge2 = pd.merge(customers_df[['customer_id', 'customer_unique_id', 'customer_state', 'customer_zip_code_prefix']], \n",
        "                  geolocation_df[['geolocation_zip_code_prefix', 'geolocation_lat', 'geolocation_lng']],\n",
        "                  how=\"left\" , \n",
        "                  left_on = 'customer_zip_code_prefix', \n",
        "                  right_on = 'geolocation_zip_code_prefix' )\n",
        "\n",
        "merge2.drop(columns=['geolocation_zip_code_prefix'], inplace=True) # menghapus kolom geolocation_zip_code_prefix karena tidak dibutuhkan lagi\n",
        "merge2.rename(columns={'geolocation_lat': 'customer_lat', 'geolocation_lng' : 'customer_lng'}, inplace=True) # Mengganti nama kolom agar mudah dipahami\n",
        "merge2 = merge2.drop_duplicates(subset=['customer_zip_code_prefix'])"
      ]
    },
    {
      "cell_type": "code",
      "execution_count": 13,
      "metadata": {},
      "outputs": [
        {
          "name": "stdout",
          "output_type": "stream",
          "text": [
            "<class 'pandas.core.frame.DataFrame'>\n",
            "Index: 14994 entries, 0 to 10324422\n",
            "Data columns (total 6 columns):\n",
            " #   Column                    Non-Null Count  Dtype  \n",
            "---  ------                    --------------  -----  \n",
            " 0   customer_id               14994 non-null  object \n",
            " 1   customer_unique_id        14994 non-null  object \n",
            " 2   customer_state            14994 non-null  object \n",
            " 3   customer_zip_code_prefix  14994 non-null  int64  \n",
            " 4   customer_lat              14837 non-null  float64\n",
            " 5   customer_lng              14837 non-null  float64\n",
            "dtypes: float64(2), int64(1), object(3)\n",
            "memory usage: 820.0+ KB\n"
          ]
        }
      ],
      "source": [
        "merge2.info()"
      ]
    },
    {
      "cell_type": "code",
      "execution_count": 14,
      "metadata": {},
      "outputs": [
        {
          "name": "stdout",
          "output_type": "stream",
          "text": [
            "<class 'pandas.core.frame.DataFrame'>\n",
            "RangeIndex: 99441 entries, 0 to 99440\n",
            "Data columns (total 9 columns):\n",
            " #   Column                    Non-Null Count  Dtype  \n",
            "---  ------                    --------------  -----  \n",
            " 0   order_id                  99441 non-null  object \n",
            " 1   customer_id               99441 non-null  object \n",
            " 2   order_status              99441 non-null  object \n",
            " 3   order_approved_at         99281 non-null  object \n",
            " 4   customer_unique_id        14994 non-null  object \n",
            " 5   customer_state            14994 non-null  object \n",
            " 6   customer_zip_code_prefix  14994 non-null  float64\n",
            " 7   customer_lat              14837 non-null  float64\n",
            " 8   customer_lng              14837 non-null  float64\n",
            "dtypes: float64(3), object(6)\n",
            "memory usage: 6.8+ MB\n"
          ]
        }
      ],
      "source": [
        "#Melakukan merge orders_dataset dengan merge geolocation df & customers df\n",
        "merge3 = pd.merge(orders_dataset_df[['order_id', 'customer_id', 'order_status', 'order_approved_at']], merge2, on=\"customer_id\", how=\"left\")\n",
        "merge3.info()"
      ]
    },
    {
      "cell_type": "code",
      "execution_count": 15,
      "metadata": {},
      "outputs": [
        {
          "name": "stdout",
          "output_type": "stream",
          "text": [
            "<class 'pandas.core.frame.DataFrame'>\n",
            "RangeIndex: 112650 entries, 0 to 112649\n",
            "Data columns (total 11 columns):\n",
            " #   Column                    Non-Null Count   Dtype  \n",
            "---  ------                    --------------   -----  \n",
            " 0   order_id                  112650 non-null  object \n",
            " 1   product_id                112650 non-null  object \n",
            " 2   price                     112650 non-null  float64\n",
            " 3   customer_id               112650 non-null  object \n",
            " 4   order_status              112650 non-null  object \n",
            " 5   order_approved_at         112635 non-null  object \n",
            " 6   customer_unique_id        16858 non-null   object \n",
            " 7   customer_state            16858 non-null   object \n",
            " 8   customer_zip_code_prefix  16858 non-null   float64\n",
            " 9   customer_lat              16689 non-null   float64\n",
            " 10  customer_lng              16689 non-null   float64\n",
            "dtypes: float64(4), object(7)\n",
            "memory usage: 9.5+ MB\n"
          ]
        }
      ],
      "source": [
        "#Melakukan merge order_items_df dengan merge geolocation,customers,order_dataset df\n",
        "merge4 = pd.merge(order_items_df[['order_id', 'product_id', 'price']], merge3, on=\"order_id\", how=\"left\")\n",
        "merge4.info()"
      ]
    },
    {
      "cell_type": "code",
      "execution_count": 16,
      "metadata": {},
      "outputs": [],
      "source": [
        "#Melakukan merge order_reviews dengan merge geolocation,customers,order_dataset,order_items df\n",
        "merge5 = pd.merge(order_reviews_df[['order_id', 'review_score']], merge4, on=\"order_id\", how=\"right\")"
      ]
    },
    {
      "cell_type": "code",
      "execution_count": 17,
      "metadata": {},
      "outputs": [
        {
          "name": "stdout",
          "output_type": "stream",
          "text": [
            "<class 'pandas.core.frame.DataFrame'>\n",
            "RangeIndex: 113314 entries, 0 to 113313\n",
            "Data columns (total 14 columns):\n",
            " #   Column                         Non-Null Count   Dtype  \n",
            "---  ------                         --------------   -----  \n",
            " 0   product_category_name          111702 non-null  object \n",
            " 1   product_category_name_english  111678 non-null  object \n",
            " 2   product_id                     113314 non-null  object \n",
            " 3   order_id                       113314 non-null  object \n",
            " 4   review_score                   112372 non-null  float64\n",
            " 5   price                          113314 non-null  float64\n",
            " 6   customer_id                    113314 non-null  object \n",
            " 7   order_status                   113314 non-null  object \n",
            " 8   order_approved_at              113299 non-null  object \n",
            " 9   customer_unique_id             16932 non-null   object \n",
            " 10  customer_state                 16932 non-null   object \n",
            " 11  customer_zip_code_prefix       16932 non-null   float64\n",
            " 12  customer_lat                   16761 non-null   float64\n",
            " 13  customer_lng                   16761 non-null   float64\n",
            "dtypes: float64(5), object(9)\n",
            "memory usage: 12.1+ MB\n"
          ]
        }
      ],
      "source": [
        "#Menggabungkan seluruh merge menjadi 1 sesuai dengan Skema\n",
        "all_merged = pd.merge(merge1, merge5, on=\"product_id\", how=\"right\")\n",
        "all_merged.info()"
      ]
    },
    {
      "cell_type": "markdown",
      "metadata": {
        "id": "FHSiqaZp8DC1"
      },
      "source": [
        "## Assessing Data"
      ]
    },
    {
      "cell_type": "markdown",
      "metadata": {
        "id": "ao6TD1vSrHfZ"
      },
      "source": [
        "#### **A. Mengidentifikasi Missing Values**"
      ]
    },
    {
      "cell_type": "markdown",
      "metadata": {
        "id": "NKCrF8FruzRe"
      },
      "source": [
        "Mencari Missing Value pada Data Frame yang ada"
      ]
    },
    {
      "cell_type": "code",
      "execution_count": 18,
      "metadata": {
        "colab": {
          "base_uri": "https://localhost:8080/"
        },
        "id": "Tto1fkt9GPT8",
        "outputId": "ad7b9d48-9344-48b7-d0b4-e1c3c67bac39"
      },
      "outputs": [
        {
          "data": {
            "text/plain": [
              "product_category_name             1612\n",
              "product_category_name_english     1636\n",
              "product_id                           0\n",
              "order_id                             0\n",
              "review_score                       942\n",
              "price                                0\n",
              "customer_id                          0\n",
              "order_status                         0\n",
              "order_approved_at                   15\n",
              "customer_unique_id               96382\n",
              "customer_state                   96382\n",
              "customer_zip_code_prefix         96382\n",
              "customer_lat                     96553\n",
              "customer_lng                     96553\n",
              "dtype: int64"
            ]
          },
          "execution_count": 18,
          "metadata": {},
          "output_type": "execute_result"
        }
      ],
      "source": [
        "all_merged.isnull().sum()"
      ]
    },
    {
      "cell_type": "markdown",
      "metadata": {
        "id": "CoPi08PQzow8"
      },
      "source": [
        "#### **B. Mengidentifikasi Duplikasi Data**"
      ]
    },
    {
      "cell_type": "code",
      "execution_count": 19,
      "metadata": {
        "colab": {
          "base_uri": "https://localhost:8080/"
        },
        "id": "XIxQ7ScYzsum",
        "outputId": "6c3915cb-8ede-4a95-e845-c4899a30aeeb"
      },
      "outputs": [
        {
          "data": {
            "text/plain": [
              "np.int64(10662)"
            ]
          },
          "execution_count": 19,
          "metadata": {},
          "output_type": "execute_result"
        }
      ],
      "source": [
        "all_merged.duplicated().sum()"
      ]
    },
    {
      "cell_type": "markdown",
      "metadata": {
        "id": "LaItc9TY8fKZ"
      },
      "source": [
        "Data yang memiliki Duplikasi adalah Data hasil dari penggabungan geolocation_df, hal ini perlu dihapus terlebih dahulu untuk sebelum melakukan cleaning lainnya"
      ]
    },
    {
      "cell_type": "markdown",
      "metadata": {
        "id": "X6vQIVuh0Y0z"
      },
      "source": [
        "#### **C. Mengidentifikasi Type Data yang salah**"
      ]
    },
    {
      "cell_type": "code",
      "execution_count": 20,
      "metadata": {
        "colab": {
          "base_uri": "https://localhost:8080/"
        },
        "id": "YKoKA3is1kgf",
        "outputId": "e202c3bd-e8b1-4519-b060-0f4a1311be7c"
      },
      "outputs": [
        {
          "name": "stdout",
          "output_type": "stream",
          "text": [
            "<class 'pandas.core.frame.DataFrame'>\n",
            "RangeIndex: 113314 entries, 0 to 113313\n",
            "Data columns (total 14 columns):\n",
            " #   Column                         Non-Null Count   Dtype  \n",
            "---  ------                         --------------   -----  \n",
            " 0   product_category_name          111702 non-null  object \n",
            " 1   product_category_name_english  111678 non-null  object \n",
            " 2   product_id                     113314 non-null  object \n",
            " 3   order_id                       113314 non-null  object \n",
            " 4   review_score                   112372 non-null  float64\n",
            " 5   price                          113314 non-null  float64\n",
            " 6   customer_id                    113314 non-null  object \n",
            " 7   order_status                   113314 non-null  object \n",
            " 8   order_approved_at              113299 non-null  object \n",
            " 9   customer_unique_id             16932 non-null   object \n",
            " 10  customer_state                 16932 non-null   object \n",
            " 11  customer_zip_code_prefix       16932 non-null   float64\n",
            " 12  customer_lat                   16761 non-null   float64\n",
            " 13  customer_lng                   16761 non-null   float64\n",
            "dtypes: float64(5), object(9)\n",
            "memory usage: 12.1+ MB\n"
          ]
        }
      ],
      "source": [
        "all_merged.info()"
      ]
    },
    {
      "cell_type": "markdown",
      "metadata": {
        "id": "lEiY6mYqACzw"
      },
      "source": [
        "Terdapat beberapa kesalahan dalam Tipe Data:\n",
        "- order_approved_at dari object menjadi **timestamp**\n"
      ]
    },
    {
      "cell_type": "markdown",
      "metadata": {
        "id": "lXzUCRmr3d_q"
      },
      "source": [
        "#### **D. Mengidentifikasi Invalid Input**"
      ]
    },
    {
      "cell_type": "code",
      "execution_count": 21,
      "metadata": {
        "colab": {
          "base_uri": "https://localhost:8080/"
        },
        "id": "f8KZmzfc4GBt",
        "outputId": "92f4f6dc-fc3c-4ccd-e6ff-5326805f7766"
      },
      "outputs": [
        {
          "data": {
            "text/html": [
              "<div>\n",
              "<style scoped>\n",
              "    .dataframe tbody tr th:only-of-type {\n",
              "        vertical-align: middle;\n",
              "    }\n",
              "\n",
              "    .dataframe tbody tr th {\n",
              "        vertical-align: top;\n",
              "    }\n",
              "\n",
              "    .dataframe thead th {\n",
              "        text-align: right;\n",
              "    }\n",
              "</style>\n",
              "<table border=\"1\" class=\"dataframe\">\n",
              "  <thead>\n",
              "    <tr style=\"text-align: right;\">\n",
              "      <th></th>\n",
              "      <th>product_category_name</th>\n",
              "      <th>product_category_name_english</th>\n",
              "      <th>product_id</th>\n",
              "      <th>order_id</th>\n",
              "      <th>review_score</th>\n",
              "      <th>price</th>\n",
              "      <th>customer_id</th>\n",
              "      <th>order_status</th>\n",
              "      <th>order_approved_at</th>\n",
              "      <th>customer_unique_id</th>\n",
              "      <th>customer_state</th>\n",
              "      <th>customer_zip_code_prefix</th>\n",
              "      <th>customer_lat</th>\n",
              "      <th>customer_lng</th>\n",
              "    </tr>\n",
              "  </thead>\n",
              "  <tbody>\n",
              "    <tr>\n",
              "      <th>count</th>\n",
              "      <td>111702</td>\n",
              "      <td>111678</td>\n",
              "      <td>113314</td>\n",
              "      <td>113314</td>\n",
              "      <td>112372.000000</td>\n",
              "      <td>113314.000000</td>\n",
              "      <td>113314</td>\n",
              "      <td>113314</td>\n",
              "      <td>113299</td>\n",
              "      <td>16932</td>\n",
              "      <td>16932</td>\n",
              "      <td>16932.000000</td>\n",
              "      <td>16761.000000</td>\n",
              "      <td>16761.000000</td>\n",
              "    </tr>\n",
              "    <tr>\n",
              "      <th>unique</th>\n",
              "      <td>73</td>\n",
              "      <td>71</td>\n",
              "      <td>32951</td>\n",
              "      <td>98666</td>\n",
              "      <td>NaN</td>\n",
              "      <td>NaN</td>\n",
              "      <td>98666</td>\n",
              "      <td>7</td>\n",
              "      <td>90174</td>\n",
              "      <td>14885</td>\n",
              "      <td>27</td>\n",
              "      <td>NaN</td>\n",
              "      <td>NaN</td>\n",
              "      <td>NaN</td>\n",
              "    </tr>\n",
              "    <tr>\n",
              "      <th>top</th>\n",
              "      <td>cama_mesa_banho</td>\n",
              "      <td>bed_bath_table</td>\n",
              "      <td>aca2eb7d00ea1a7b8ebd4e68314663af</td>\n",
              "      <td>5a3b1c29a49756e75f1ef513383c0c12</td>\n",
              "      <td>NaN</td>\n",
              "      <td>NaN</td>\n",
              "      <td>be1c4e52bb71e0c54b11a26b8e8d59f2</td>\n",
              "      <td>delivered</td>\n",
              "      <td>2018-02-24 03:20:27</td>\n",
              "      <td>c402f431464c72e27330a67f7b94d4fb</td>\n",
              "      <td>SP</td>\n",
              "      <td>NaN</td>\n",
              "      <td>NaN</td>\n",
              "      <td>NaN</td>\n",
              "    </tr>\n",
              "    <tr>\n",
              "      <th>freq</th>\n",
              "      <td>11270</td>\n",
              "      <td>11270</td>\n",
              "      <td>527</td>\n",
              "      <td>22</td>\n",
              "      <td>NaN</td>\n",
              "      <td>NaN</td>\n",
              "      <td>22</td>\n",
              "      <td>110840</td>\n",
              "      <td>23</td>\n",
              "      <td>20</td>\n",
              "      <td>6420</td>\n",
              "      <td>NaN</td>\n",
              "      <td>NaN</td>\n",
              "      <td>NaN</td>\n",
              "    </tr>\n",
              "    <tr>\n",
              "      <th>mean</th>\n",
              "      <td>NaN</td>\n",
              "      <td>NaN</td>\n",
              "      <td>NaN</td>\n",
              "      <td>NaN</td>\n",
              "      <td>4.032473</td>\n",
              "      <td>120.478701</td>\n",
              "      <td>NaN</td>\n",
              "      <td>NaN</td>\n",
              "      <td>NaN</td>\n",
              "      <td>NaN</td>\n",
              "      <td>NaN</td>\n",
              "      <td>40108.620009</td>\n",
              "      <td>-19.883194</td>\n",
              "      <td>-46.154748</td>\n",
              "    </tr>\n",
              "    <tr>\n",
              "      <th>std</th>\n",
              "      <td>NaN</td>\n",
              "      <td>NaN</td>\n",
              "      <td>NaN</td>\n",
              "      <td>NaN</td>\n",
              "      <td>1.387849</td>\n",
              "      <td>183.279678</td>\n",
              "      <td>NaN</td>\n",
              "      <td>NaN</td>\n",
              "      <td>NaN</td>\n",
              "      <td>NaN</td>\n",
              "      <td>NaN</td>\n",
              "      <td>31391.161642</td>\n",
              "      <td>6.827219</td>\n",
              "      <td>4.812205</td>\n",
              "    </tr>\n",
              "    <tr>\n",
              "      <th>min</th>\n",
              "      <td>NaN</td>\n",
              "      <td>NaN</td>\n",
              "      <td>NaN</td>\n",
              "      <td>NaN</td>\n",
              "      <td>1.000000</td>\n",
              "      <td>0.850000</td>\n",
              "      <td>NaN</td>\n",
              "      <td>NaN</td>\n",
              "      <td>NaN</td>\n",
              "      <td>NaN</td>\n",
              "      <td>NaN</td>\n",
              "      <td>1003.000000</td>\n",
              "      <td>-36.605374</td>\n",
              "      <td>-72.666706</td>\n",
              "    </tr>\n",
              "    <tr>\n",
              "      <th>25%</th>\n",
              "      <td>NaN</td>\n",
              "      <td>NaN</td>\n",
              "      <td>NaN</td>\n",
              "      <td>NaN</td>\n",
              "      <td>4.000000</td>\n",
              "      <td>39.900000</td>\n",
              "      <td>NaN</td>\n",
              "      <td>NaN</td>\n",
              "      <td>NaN</td>\n",
              "      <td>NaN</td>\n",
              "      <td>NaN</td>\n",
              "      <td>9429.000000</td>\n",
              "      <td>-23.583555</td>\n",
              "      <td>-48.818408</td>\n",
              "    </tr>\n",
              "    <tr>\n",
              "      <th>50%</th>\n",
              "      <td>NaN</td>\n",
              "      <td>NaN</td>\n",
              "      <td>NaN</td>\n",
              "      <td>NaN</td>\n",
              "      <td>5.000000</td>\n",
              "      <td>74.900000</td>\n",
              "      <td>NaN</td>\n",
              "      <td>NaN</td>\n",
              "      <td>NaN</td>\n",
              "      <td>NaN</td>\n",
              "      <td>NaN</td>\n",
              "      <td>34350.000000</td>\n",
              "      <td>-22.837859</td>\n",
              "      <td>-46.641607</td>\n",
              "    </tr>\n",
              "    <tr>\n",
              "      <th>75%</th>\n",
              "      <td>NaN</td>\n",
              "      <td>NaN</td>\n",
              "      <td>NaN</td>\n",
              "      <td>NaN</td>\n",
              "      <td>5.000000</td>\n",
              "      <td>134.900000</td>\n",
              "      <td>NaN</td>\n",
              "      <td>NaN</td>\n",
              "      <td>NaN</td>\n",
              "      <td>NaN</td>\n",
              "      <td>NaN</td>\n",
              "      <td>70274.250000</td>\n",
              "      <td>-16.637430</td>\n",
              "      <td>-43.463623</td>\n",
              "    </tr>\n",
              "    <tr>\n",
              "      <th>max</th>\n",
              "      <td>NaN</td>\n",
              "      <td>NaN</td>\n",
              "      <td>NaN</td>\n",
              "      <td>NaN</td>\n",
              "      <td>5.000000</td>\n",
              "      <td>6735.000000</td>\n",
              "      <td>NaN</td>\n",
              "      <td>NaN</td>\n",
              "      <td>NaN</td>\n",
              "      <td>NaN</td>\n",
              "      <td>NaN</td>\n",
              "      <td>99990.000000</td>\n",
              "      <td>42.184003</td>\n",
              "      <td>-8.577855</td>\n",
              "    </tr>\n",
              "  </tbody>\n",
              "</table>\n",
              "</div>"
            ],
            "text/plain": [
              "       product_category_name product_category_name_english  \\\n",
              "count                 111702                        111678   \n",
              "unique                    73                            71   \n",
              "top          cama_mesa_banho                bed_bath_table   \n",
              "freq                   11270                         11270   \n",
              "mean                     NaN                           NaN   \n",
              "std                      NaN                           NaN   \n",
              "min                      NaN                           NaN   \n",
              "25%                      NaN                           NaN   \n",
              "50%                      NaN                           NaN   \n",
              "75%                      NaN                           NaN   \n",
              "max                      NaN                           NaN   \n",
              "\n",
              "                              product_id                          order_id  \\\n",
              "count                             113314                            113314   \n",
              "unique                             32951                             98666   \n",
              "top     aca2eb7d00ea1a7b8ebd4e68314663af  5a3b1c29a49756e75f1ef513383c0c12   \n",
              "freq                                 527                                22   \n",
              "mean                                 NaN                               NaN   \n",
              "std                                  NaN                               NaN   \n",
              "min                                  NaN                               NaN   \n",
              "25%                                  NaN                               NaN   \n",
              "50%                                  NaN                               NaN   \n",
              "75%                                  NaN                               NaN   \n",
              "max                                  NaN                               NaN   \n",
              "\n",
              "         review_score          price                       customer_id  \\\n",
              "count   112372.000000  113314.000000                            113314   \n",
              "unique            NaN            NaN                             98666   \n",
              "top               NaN            NaN  be1c4e52bb71e0c54b11a26b8e8d59f2   \n",
              "freq              NaN            NaN                                22   \n",
              "mean         4.032473     120.478701                               NaN   \n",
              "std          1.387849     183.279678                               NaN   \n",
              "min          1.000000       0.850000                               NaN   \n",
              "25%          4.000000      39.900000                               NaN   \n",
              "50%          5.000000      74.900000                               NaN   \n",
              "75%          5.000000     134.900000                               NaN   \n",
              "max          5.000000    6735.000000                               NaN   \n",
              "\n",
              "       order_status    order_approved_at                customer_unique_id  \\\n",
              "count        113314               113299                             16932   \n",
              "unique            7                90174                             14885   \n",
              "top       delivered  2018-02-24 03:20:27  c402f431464c72e27330a67f7b94d4fb   \n",
              "freq         110840                   23                                20   \n",
              "mean            NaN                  NaN                               NaN   \n",
              "std             NaN                  NaN                               NaN   \n",
              "min             NaN                  NaN                               NaN   \n",
              "25%             NaN                  NaN                               NaN   \n",
              "50%             NaN                  NaN                               NaN   \n",
              "75%             NaN                  NaN                               NaN   \n",
              "max             NaN                  NaN                               NaN   \n",
              "\n",
              "       customer_state  customer_zip_code_prefix  customer_lat  customer_lng  \n",
              "count           16932              16932.000000  16761.000000  16761.000000  \n",
              "unique             27                       NaN           NaN           NaN  \n",
              "top                SP                       NaN           NaN           NaN  \n",
              "freq             6420                       NaN           NaN           NaN  \n",
              "mean              NaN              40108.620009    -19.883194    -46.154748  \n",
              "std               NaN              31391.161642      6.827219      4.812205  \n",
              "min               NaN               1003.000000    -36.605374    -72.666706  \n",
              "25%               NaN               9429.000000    -23.583555    -48.818408  \n",
              "50%               NaN              34350.000000    -22.837859    -46.641607  \n",
              "75%               NaN              70274.250000    -16.637430    -43.463623  \n",
              "max               NaN              99990.000000     42.184003     -8.577855  "
            ]
          },
          "execution_count": 21,
          "metadata": {},
          "output_type": "execute_result"
        }
      ],
      "source": [
        "all_merged.describe(include=\"all\")"
      ]
    },
    {
      "cell_type": "markdown",
      "metadata": {},
      "source": [
        "Tidak terdapat Invalid Input yang berpengaruh"
      ]
    },
    {
      "cell_type": "markdown",
      "metadata": {
        "id": "qpe3hEY3BVrK"
      },
      "source": [
        "#### **Insight**"
      ]
    },
    {
      "cell_type": "markdown",
      "metadata": {
        "id": "Pps93-sHG49Z"
      },
      "source": [
        "\n",
        "- **Tipe Data :**\\\n",
        "order_approved_at dari object menjadi **timestamp**\n",
        "-------\n",
        "- **Missing Value:**\\\n",
        "Untuk data awal, missing value yang dimiliki oleh all_merged dataframe adalah :\\\n",
        "Terdapat **1612** missing value pada kolom product_category_name\\\n",
        "Terdapat **1636** missing value pada kolom product_category_name_english\\\n",
        "Terdapat **942** missing value pada kolom review_score\\\n",
        "Terdapat **96382** missing value pada kolom customer_unique_id\\\n",
        "Terdapat **96382** missing value pada kolom customer_state\\\n",
        "Terdapat **96382** missing value pada kolom customer_zip_code_prefix\\\n",
        "Terdapat **96553** missing value pada kolom customer_lat\\\n",
        "Terdapat **96553** missing value pada kolom customer_lng\n",
        "--------\n",
        "- **Duplicated Value:**\\\n",
        "Terdapat total **10662** data duplikat dalam all_merged dataframe"
      ]
    },
    {
      "cell_type": "markdown",
      "metadata": {
        "id": "EhN5R4hr8DC1"
      },
      "source": [
        "## Cleaning Data"
      ]
    },
    {
      "cell_type": "markdown",
      "metadata": {},
      "source": [
        "**A. Menghilangkan Data yang Duplikat**"
      ]
    },
    {
      "cell_type": "code",
      "execution_count": 22,
      "metadata": {},
      "outputs": [
        {
          "data": {
            "text/plain": [
              "np.int64(0)"
            ]
          },
          "execution_count": 22,
          "metadata": {},
          "output_type": "execute_result"
        }
      ],
      "source": [
        "all_merged = all_merged.drop_duplicates()\n",
        "all_merged.duplicated().sum()"
      ]
    },
    {
      "cell_type": "markdown",
      "metadata": {},
      "source": [
        "**B. Menghilangkan Missing Values**"
      ]
    },
    {
      "cell_type": "markdown",
      "metadata": {},
      "source": [
        "Menghilangkan customer_unique_id, customer_state, customer_zip_code_prefix, customer_lat, customer_lng dengan cara droping"
      ]
    },
    {
      "cell_type": "code",
      "execution_count": 24,
      "metadata": {},
      "outputs": [
        {
          "data": {
            "text/plain": [
              "product_category_name               0\n",
              "product_category_name_english    1486\n",
              "product_id                          0\n",
              "order_id                            0\n",
              "review_score                      797\n",
              "price                               0\n",
              "customer_id                         0\n",
              "order_status                        0\n",
              "order_approved_at                  14\n",
              "customer_unique_id                  0\n",
              "customer_state                      0\n",
              "customer_zip_code_prefix            0\n",
              "customer_lat                        0\n",
              "customer_lng                        0\n",
              "dtype: int64"
            ]
          },
          "execution_count": 24,
          "metadata": {},
          "output_type": "execute_result"
        }
      ],
      "source": [
        "all_merged['customer_unique_id'] = all_merged['customer_unique_id'].fillna('None')\n",
        "all_merged['customer_state'] = all_merged['customer_state'].fillna('Unknown')\n",
        "all_merged['product_category_name'] = all_merged['product_category_name'].fillna('Unknown')\n",
        "\n",
        "all_merged['customer_zip_code_prefix'] = all_merged['customer_zip_code_prefix'].fillna(0)\n",
        "all_merged['customer_lat'] = all_merged['customer_lat'].fillna(0)\n",
        "all_merged['customer_lng'] = all_merged['customer_lng'].fillna(0)\n",
        "\n",
        "all_merged.isnull().sum()"
      ]
    },
    {
      "cell_type": "markdown",
      "metadata": {},
      "source": [
        "Missing value pada order_approved_at menunjukkan bahwa terdapat order yang tidak di-approved atau tidak valid, hal ini sebaiknya dihilangkan untuk memudahkan data cleaning"
      ]
    },
    {
      "cell_type": "code",
      "execution_count": 25,
      "metadata": {},
      "outputs": [],
      "source": [
        "all_merged= all_merged.dropna(subset=['order_approved_at'])"
      ]
    },
    {
      "cell_type": "markdown",
      "metadata": {},
      "source": [
        "Bisa saja ada order yang tidak diberikan review score, sehingga untuk order yang tidak memiliki review akan diberikan value 0 untuk menandakan order tersebut tidak emmiliki review"
      ]
    },
    {
      "cell_type": "code",
      "execution_count": 26,
      "metadata": {},
      "outputs": [
        {
          "data": {
            "text/plain": [
              "product_category_name               0\n",
              "product_category_name_english    1485\n",
              "product_id                          0\n",
              "order_id                            0\n",
              "review_score                        0\n",
              "price                               0\n",
              "customer_id                         0\n",
              "order_status                        0\n",
              "order_approved_at                   0\n",
              "customer_unique_id                  0\n",
              "customer_state                      0\n",
              "customer_zip_code_prefix            0\n",
              "customer_lat                        0\n",
              "customer_lng                        0\n",
              "dtype: int64"
            ]
          },
          "execution_count": 26,
          "metadata": {},
          "output_type": "execute_result"
        }
      ],
      "source": [
        "all_merged['review_score'] = all_merged['review_score'].fillna(0)\n",
        "all_merged.isnull().sum()"
      ]
    },
    {
      "cell_type": "markdown",
      "metadata": {},
      "source": [
        "Dengan adanya missing value pada 'product_category_name_english' menunjukkan ada beberapa produk yang tidak memiliki translate ke bahasa inggris.\\\n",
        "Daripada harus menghapus 1463 baris data, lebih baik mengisi 'product_category_name_english' dengan nama produk aslinya untuk mengurangi kehilangan data"
      ]
    },
    {
      "cell_type": "code",
      "execution_count": 27,
      "metadata": {},
      "outputs": [
        {
          "data": {
            "text/plain": [
              "product_category_name            0\n",
              "product_category_name_english    0\n",
              "product_id                       0\n",
              "order_id                         0\n",
              "review_score                     0\n",
              "price                            0\n",
              "customer_id                      0\n",
              "order_status                     0\n",
              "order_approved_at                0\n",
              "customer_unique_id               0\n",
              "customer_state                   0\n",
              "customer_zip_code_prefix         0\n",
              "customer_lat                     0\n",
              "customer_lng                     0\n",
              "dtype: int64"
            ]
          },
          "execution_count": 27,
          "metadata": {},
          "output_type": "execute_result"
        }
      ],
      "source": [
        "all_merged['product_category_name_english'] = all_merged['product_category_name_english'].fillna(all_merged['product_category_name'])\n",
        "all_merged.isnull().sum()"
      ]
    },
    {
      "cell_type": "markdown",
      "metadata": {},
      "source": [
        "**C. Merubah Type Data**"
      ]
    },
    {
      "cell_type": "code",
      "execution_count": 28,
      "metadata": {},
      "outputs": [],
      "source": [
        "all_merged['order_approved_at'] = pd.to_datetime(all_merged['order_approved_at'])"
      ]
    },
    {
      "cell_type": "markdown",
      "metadata": {
        "id": "gp-Y6wU38DC1"
      },
      "source": [
        "## Exploratory Data Analysis (EDA)"
      ]
    },
    {
      "cell_type": "markdown",
      "metadata": {},
      "source": [
        "### Exploratory All Data"
      ]
    },
    {
      "cell_type": "markdown",
      "metadata": {},
      "source": [
        "Menentukan Banyaknya Customer yang telah melakukan order"
      ]
    },
    {
      "cell_type": "code",
      "execution_count": 29,
      "metadata": {},
      "outputs": [
        {
          "name": "stdout",
          "output_type": "stream",
          "text": [
            "Total unique users: 14884\n"
          ]
        }
      ],
      "source": [
        "total_users = all_merged['customer_unique_id'].nunique()\n",
        "print(f\"Total unique users: {total_users}\")"
      ]
    },
    {
      "cell_type": "markdown",
      "metadata": {},
      "source": [
        "Menentukan banyak Order yang telah terjadi"
      ]
    },
    {
      "cell_type": "code",
      "execution_count": 30,
      "metadata": {},
      "outputs": [
        {
          "name": "stdout",
          "output_type": "stream",
          "text": [
            "Total orders: 98652\n"
          ]
        }
      ],
      "source": [
        "total_orders = all_merged['order_id'].nunique()\n",
        "print(f\"Total orders: {total_orders}\")"
      ]
    },
    {
      "cell_type": "markdown",
      "metadata": {},
      "source": [
        "Menentukan jumlah Revenue yang dihasilkan oleh transaksi pemesanan"
      ]
    },
    {
      "cell_type": "code",
      "execution_count": 31,
      "metadata": {},
      "outputs": [
        {
          "name": "stdout",
          "output_type": "stream",
          "text": [
            "101256\n"
          ]
        }
      ],
      "source": [
        "total_revenue = all_merged.groupby(by=\"price\").order_id.nunique().sum()\n",
        "print(total_revenue)"
      ]
    },
    {
      "cell_type": "markdown",
      "metadata": {},
      "source": [
        "Mencari insight antara asal negara dari customers terhadap revenue yang perusahaan dapatkan"
      ]
    },
    {
      "cell_type": "code",
      "execution_count": 32,
      "metadata": {},
      "outputs": [
        {
          "data": {
            "text/html": [
              "<div>\n",
              "<style scoped>\n",
              "    .dataframe tbody tr th:only-of-type {\n",
              "        vertical-align: middle;\n",
              "    }\n",
              "\n",
              "    .dataframe tbody tr th {\n",
              "        vertical-align: top;\n",
              "    }\n",
              "\n",
              "    .dataframe thead tr th {\n",
              "        text-align: left;\n",
              "    }\n",
              "\n",
              "    .dataframe thead tr:last-of-type th {\n",
              "        text-align: right;\n",
              "    }\n",
              "</style>\n",
              "<table border=\"1\" class=\"dataframe\">\n",
              "  <thead>\n",
              "    <tr>\n",
              "      <th></th>\n",
              "      <th>customer_id</th>\n",
              "      <th colspan=\"3\" halign=\"left\">price</th>\n",
              "    </tr>\n",
              "    <tr>\n",
              "      <th></th>\n",
              "      <th>nunique</th>\n",
              "      <th>max</th>\n",
              "      <th>min</th>\n",
              "      <th>mean</th>\n",
              "    </tr>\n",
              "    <tr>\n",
              "      <th>customer_state</th>\n",
              "      <th></th>\n",
              "      <th></th>\n",
              "      <th></th>\n",
              "      <th></th>\n",
              "    </tr>\n",
              "  </thead>\n",
              "  <tbody>\n",
              "    <tr>\n",
              "      <th>AC</th>\n",
              "      <td>20</td>\n",
              "      <td>1200.00</td>\n",
              "      <td>12.90</td>\n",
              "      <td>176.555500</td>\n",
              "    </tr>\n",
              "    <tr>\n",
              "      <th>AL</th>\n",
              "      <td>125</td>\n",
              "      <td>1079.99</td>\n",
              "      <td>13.90</td>\n",
              "      <td>185.096587</td>\n",
              "    </tr>\n",
              "    <tr>\n",
              "      <th>AM</th>\n",
              "      <td>54</td>\n",
              "      <td>1688.00</td>\n",
              "      <td>12.90</td>\n",
              "      <td>170.448036</td>\n",
              "    </tr>\n",
              "    <tr>\n",
              "      <th>AP</th>\n",
              "      <td>18</td>\n",
              "      <td>798.00</td>\n",
              "      <td>29.99</td>\n",
              "      <td>204.450556</td>\n",
              "    </tr>\n",
              "    <tr>\n",
              "      <th>BA</th>\n",
              "      <td>729</td>\n",
              "      <td>2258.00</td>\n",
              "      <td>5.20</td>\n",
              "      <td>129.422377</td>\n",
              "    </tr>\n",
              "    <tr>\n",
              "      <th>CE</th>\n",
              "      <td>383</td>\n",
              "      <td>2139.99</td>\n",
              "      <td>12.00</td>\n",
              "      <td>169.618886</td>\n",
              "    </tr>\n",
              "    <tr>\n",
              "      <th>DF</th>\n",
              "      <td>464</td>\n",
              "      <td>1350.00</td>\n",
              "      <td>6.90</td>\n",
              "      <td>130.372382</td>\n",
              "    </tr>\n",
              "    <tr>\n",
              "      <th>ES</th>\n",
              "      <td>265</td>\n",
              "      <td>719.88</td>\n",
              "      <td>9.00</td>\n",
              "      <td>99.700978</td>\n",
              "    </tr>\n",
              "    <tr>\n",
              "      <th>GO</th>\n",
              "      <td>537</td>\n",
              "      <td>1623.90</td>\n",
              "      <td>10.00</td>\n",
              "      <td>122.184025</td>\n",
              "    </tr>\n",
              "    <tr>\n",
              "      <th>MA</th>\n",
              "      <td>194</td>\n",
              "      <td>2199.00</td>\n",
              "      <td>9.90</td>\n",
              "      <td>168.867071</td>\n",
              "    </tr>\n",
              "    <tr>\n",
              "      <th>MG</th>\n",
              "      <td>1339</td>\n",
              "      <td>4099.99</td>\n",
              "      <td>5.90</td>\n",
              "      <td>121.425075</td>\n",
              "    </tr>\n",
              "    <tr>\n",
              "      <th>MS</th>\n",
              "      <td>185</td>\n",
              "      <td>2062.99</td>\n",
              "      <td>13.65</td>\n",
              "      <td>145.091230</td>\n",
              "    </tr>\n",
              "    <tr>\n",
              "      <th>MT</th>\n",
              "      <td>174</td>\n",
              "      <td>1890.00</td>\n",
              "      <td>12.25</td>\n",
              "      <td>165.694176</td>\n",
              "    </tr>\n",
              "    <tr>\n",
              "      <th>PA</th>\n",
              "      <td>209</td>\n",
              "      <td>2199.00</td>\n",
              "      <td>4.99</td>\n",
              "      <td>154.418721</td>\n",
              "    </tr>\n",
              "    <tr>\n",
              "      <th>PB</th>\n",
              "      <td>181</td>\n",
              "      <td>3089.00</td>\n",
              "      <td>13.90</td>\n",
              "      <td>215.600213</td>\n",
              "    </tr>\n",
              "    <tr>\n",
              "      <th>PE</th>\n",
              "      <td>439</td>\n",
              "      <td>1989.00</td>\n",
              "      <td>9.88</td>\n",
              "      <td>138.594933</td>\n",
              "    </tr>\n",
              "    <tr>\n",
              "      <th>PI</th>\n",
              "      <td>154</td>\n",
              "      <td>1780.00</td>\n",
              "      <td>12.50</td>\n",
              "      <td>163.086815</td>\n",
              "    </tr>\n",
              "    <tr>\n",
              "      <th>PR</th>\n",
              "      <td>851</td>\n",
              "      <td>2799.00</td>\n",
              "      <td>4.90</td>\n",
              "      <td>120.996522</td>\n",
              "    </tr>\n",
              "    <tr>\n",
              "      <th>RJ</th>\n",
              "      <td>1189</td>\n",
              "      <td>2300.00</td>\n",
              "      <td>3.54</td>\n",
              "      <td>125.886392</td>\n",
              "    </tr>\n",
              "    <tr>\n",
              "      <th>RN</th>\n",
              "      <td>175</td>\n",
              "      <td>1099.00</td>\n",
              "      <td>12.50</td>\n",
              "      <td>148.546077</td>\n",
              "    </tr>\n",
              "    <tr>\n",
              "      <th>RO</th>\n",
              "      <td>74</td>\n",
              "      <td>1999.00</td>\n",
              "      <td>9.99</td>\n",
              "      <td>212.425733</td>\n",
              "    </tr>\n",
              "    <tr>\n",
              "      <th>RR</th>\n",
              "      <td>15</td>\n",
              "      <td>699.00</td>\n",
              "      <td>13.65</td>\n",
              "      <td>179.610000</td>\n",
              "    </tr>\n",
              "    <tr>\n",
              "      <th>RS</th>\n",
              "      <td>867</td>\n",
              "      <td>1449.00</td>\n",
              "      <td>5.18</td>\n",
              "      <td>112.648687</td>\n",
              "    </tr>\n",
              "    <tr>\n",
              "      <th>SC</th>\n",
              "      <td>514</td>\n",
              "      <td>3105.00</td>\n",
              "      <td>6.00</td>\n",
              "      <td>132.642533</td>\n",
              "    </tr>\n",
              "    <tr>\n",
              "      <th>SE</th>\n",
              "      <td>88</td>\n",
              "      <td>1670.00</td>\n",
              "      <td>16.04</td>\n",
              "      <td>163.209780</td>\n",
              "    </tr>\n",
              "    <tr>\n",
              "      <th>SP</th>\n",
              "      <td>5548</td>\n",
              "      <td>6499.00</td>\n",
              "      <td>3.49</td>\n",
              "      <td>111.039647</td>\n",
              "    </tr>\n",
              "    <tr>\n",
              "      <th>TO</th>\n",
              "      <td>96</td>\n",
              "      <td>1999.00</td>\n",
              "      <td>9.90</td>\n",
              "      <td>148.468713</td>\n",
              "    </tr>\n",
              "    <tr>\n",
              "      <th>Unknown</th>\n",
              "      <td>83765</td>\n",
              "      <td>6735.00</td>\n",
              "      <td>0.85</td>\n",
              "      <td>124.165904</td>\n",
              "    </tr>\n",
              "  </tbody>\n",
              "</table>\n",
              "</div>"
            ],
            "text/plain": [
              "               customer_id    price                   \n",
              "                   nunique      max    min        mean\n",
              "customer_state                                        \n",
              "AC                      20  1200.00  12.90  176.555500\n",
              "AL                     125  1079.99  13.90  185.096587\n",
              "AM                      54  1688.00  12.90  170.448036\n",
              "AP                      18   798.00  29.99  204.450556\n",
              "BA                     729  2258.00   5.20  129.422377\n",
              "CE                     383  2139.99  12.00  169.618886\n",
              "DF                     464  1350.00   6.90  130.372382\n",
              "ES                     265   719.88   9.00   99.700978\n",
              "GO                     537  1623.90  10.00  122.184025\n",
              "MA                     194  2199.00   9.90  168.867071\n",
              "MG                    1339  4099.99   5.90  121.425075\n",
              "MS                     185  2062.99  13.65  145.091230\n",
              "MT                     174  1890.00  12.25  165.694176\n",
              "PA                     209  2199.00   4.99  154.418721\n",
              "PB                     181  3089.00  13.90  215.600213\n",
              "PE                     439  1989.00   9.88  138.594933\n",
              "PI                     154  1780.00  12.50  163.086815\n",
              "PR                     851  2799.00   4.90  120.996522\n",
              "RJ                    1189  2300.00   3.54  125.886392\n",
              "RN                     175  1099.00  12.50  148.546077\n",
              "RO                      74  1999.00   9.99  212.425733\n",
              "RR                      15   699.00  13.65  179.610000\n",
              "RS                     867  1449.00   5.18  112.648687\n",
              "SC                     514  3105.00   6.00  132.642533\n",
              "SE                      88  1670.00  16.04  163.209780\n",
              "SP                    5548  6499.00   3.49  111.039647\n",
              "TO                      96  1999.00   9.90  148.468713\n",
              "Unknown              83765  6735.00   0.85  124.165904"
            ]
          },
          "execution_count": 32,
          "metadata": {},
          "output_type": "execute_result"
        }
      ],
      "source": [
        "all_merged.groupby(by=\"customer_state\").agg({\n",
        "    \"customer_id\" : \"nunique\",\n",
        "    \"price\": [\"max\", \"min\", \"mean\"]\n",
        "})"
      ]
    },
    {
      "cell_type": "markdown",
      "metadata": {},
      "source": [
        "mencari insight terhadap nama produk beserta revenuenya"
      ]
    },
    {
      "cell_type": "code",
      "execution_count": 33,
      "metadata": {},
      "outputs": [
        {
          "data": {
            "text/html": [
              "<div>\n",
              "<style scoped>\n",
              "    .dataframe tbody tr th:only-of-type {\n",
              "        vertical-align: middle;\n",
              "    }\n",
              "\n",
              "    .dataframe tbody tr th {\n",
              "        vertical-align: top;\n",
              "    }\n",
              "\n",
              "    .dataframe thead tr th {\n",
              "        text-align: left;\n",
              "    }\n",
              "\n",
              "    .dataframe thead tr:last-of-type th {\n",
              "        text-align: right;\n",
              "    }\n",
              "</style>\n",
              "<table border=\"1\" class=\"dataframe\">\n",
              "  <thead>\n",
              "    <tr>\n",
              "      <th></th>\n",
              "      <th>order_id</th>\n",
              "      <th colspan=\"3\" halign=\"left\">price</th>\n",
              "    </tr>\n",
              "    <tr>\n",
              "      <th></th>\n",
              "      <th>nunique</th>\n",
              "      <th>max</th>\n",
              "      <th>min</th>\n",
              "      <th>mean</th>\n",
              "    </tr>\n",
              "    <tr>\n",
              "      <th>product_category_name_english</th>\n",
              "      <th></th>\n",
              "      <th></th>\n",
              "      <th></th>\n",
              "      <th></th>\n",
              "    </tr>\n",
              "  </thead>\n",
              "  <tbody>\n",
              "    <tr>\n",
              "      <th>Unknown</th>\n",
              "      <td>1450</td>\n",
              "      <td>3980.00</td>\n",
              "      <td>3.00</td>\n",
              "      <td>116.452727</td>\n",
              "    </tr>\n",
              "    <tr>\n",
              "      <th>agro_industry_and_commerce</th>\n",
              "      <td>182</td>\n",
              "      <td>2990.00</td>\n",
              "      <td>12.99</td>\n",
              "      <td>351.167650</td>\n",
              "    </tr>\n",
              "    <tr>\n",
              "      <th>air_conditioning</th>\n",
              "      <td>253</td>\n",
              "      <td>1599.00</td>\n",
              "      <td>10.90</td>\n",
              "      <td>181.552874</td>\n",
              "    </tr>\n",
              "    <tr>\n",
              "      <th>art</th>\n",
              "      <td>202</td>\n",
              "      <td>6499.00</td>\n",
              "      <td>3.50</td>\n",
              "      <td>118.104752</td>\n",
              "    </tr>\n",
              "    <tr>\n",
              "      <th>arts_and_craftmanship</th>\n",
              "      <td>23</td>\n",
              "      <td>289.49</td>\n",
              "      <td>9.80</td>\n",
              "      <td>75.583750</td>\n",
              "    </tr>\n",
              "    <tr>\n",
              "      <th>...</th>\n",
              "      <td>...</td>\n",
              "      <td>...</td>\n",
              "      <td>...</td>\n",
              "      <td>...</td>\n",
              "    </tr>\n",
              "    <tr>\n",
              "      <th>stationery</th>\n",
              "      <td>2311</td>\n",
              "      <td>1693.00</td>\n",
              "      <td>2.29</td>\n",
              "      <td>94.466009</td>\n",
              "    </tr>\n",
              "    <tr>\n",
              "      <th>tablets_printing_image</th>\n",
              "      <td>79</td>\n",
              "      <td>889.99</td>\n",
              "      <td>14.90</td>\n",
              "      <td>90.792532</td>\n",
              "    </tr>\n",
              "    <tr>\n",
              "      <th>telephony</th>\n",
              "      <td>4198</td>\n",
              "      <td>2428.00</td>\n",
              "      <td>5.00</td>\n",
              "      <td>71.172483</td>\n",
              "    </tr>\n",
              "    <tr>\n",
              "      <th>toys</th>\n",
              "      <td>3886</td>\n",
              "      <td>1699.99</td>\n",
              "      <td>4.90</td>\n",
              "      <td>119.301758</td>\n",
              "    </tr>\n",
              "    <tr>\n",
              "      <th>watches_gifts</th>\n",
              "      <td>5624</td>\n",
              "      <td>3999.90</td>\n",
              "      <td>8.99</td>\n",
              "      <td>204.724138</td>\n",
              "    </tr>\n",
              "  </tbody>\n",
              "</table>\n",
              "<p>74 rows × 4 columns</p>\n",
              "</div>"
            ],
            "text/plain": [
              "                              order_id    price                   \n",
              "                               nunique      max    min        mean\n",
              "product_category_name_english                                     \n",
              "Unknown                           1450  3980.00   3.00  116.452727\n",
              "agro_industry_and_commerce         182  2990.00  12.99  351.167650\n",
              "air_conditioning                   253  1599.00  10.90  181.552874\n",
              "art                                202  6499.00   3.50  118.104752\n",
              "arts_and_craftmanship               23   289.49   9.80   75.583750\n",
              "...                                ...      ...    ...         ...\n",
              "stationery                        2311  1693.00   2.29   94.466009\n",
              "tablets_printing_image              79   889.99  14.90   90.792532\n",
              "telephony                         4198  2428.00   5.00   71.172483\n",
              "toys                              3886  1699.99   4.90  119.301758\n",
              "watches_gifts                     5624  3999.90   8.99  204.724138\n",
              "\n",
              "[74 rows x 4 columns]"
            ]
          },
          "execution_count": 33,
          "metadata": {},
          "output_type": "execute_result"
        }
      ],
      "source": [
        "all_merged.groupby(by=\"product_category_name_english\").agg({\n",
        "    \"order_id\" : \"nunique\",\n",
        "    \"price\": [\"max\", \"min\", \"mean\"]\n",
        "})"
      ]
    },
    {
      "cell_type": "code",
      "execution_count": null,
      "metadata": {},
      "outputs": [],
      "source": [
        " "
      ]
    },
    {
      "cell_type": "markdown",
      "metadata": {},
      "source": [
        "Mengetahui hari terakhir sejak adanya order approved"
      ]
    },
    {
      "cell_type": "code",
      "execution_count": 34,
      "metadata": {},
      "outputs": [
        {
          "name": "stdout",
          "output_type": "stream",
          "text": [
            "The last transaction occurred on: 2018-09-03 17:40:06\n",
            "Number of days since the last transaction: 2245 days\n"
          ]
        }
      ],
      "source": [
        "last_transaction_date = all_merged['order_approved_at'].max()\n",
        "\n",
        "today = pd.to_datetime('today')\n",
        "days_since_last_transaction = (today - last_transaction_date).days\n",
        "\n",
        "print(f\"The last transaction occurred on: {last_transaction_date}\")\n",
        "print(f\"Number of days since the last transaction: {days_since_last_transaction} days\")"
      ]
    },
    {
      "cell_type": "markdown",
      "metadata": {},
      "source": [
        "## Visualization & Explanatory Analysis"
      ]
    },
    {
      "cell_type": "markdown",
      "metadata": {
        "id": "32AKBNrUp0ok"
      },
      "source": [
        "**Menghitung Total User pada Dataframe**"
      ]
    },
    {
      "cell_type": "code",
      "execution_count": 35,
      "metadata": {},
      "outputs": [
        {
          "name": "stdout",
          "output_type": "stream",
          "text": [
            "Total unique users: 14884\n"
          ]
        }
      ],
      "source": [
        "print(f\"Total unique users: {total_users}\")"
      ]
    },
    {
      "cell_type": "markdown",
      "metadata": {},
      "source": [
        "**Menghitung Persebaran Status Order**"
      ]
    },
    {
      "cell_type": "code",
      "execution_count": 36,
      "metadata": {},
      "outputs": [
        {
          "data": {
            "image/png": "[encoded data removed]",
            "text/plain": [
              "<Figure size 1000x600 with 1 Axes>"
            ]
          },
          "metadata": {},
          "output_type": "display_data"
        }
      ],
      "source": [
        "# Menghitung jumlah unik order berdasarkan status\n",
        "status_order_count = all_merged.groupby(by=\"order_status\").order_id.nunique().sort_values(ascending=False)\n",
        "\n",
        "# Memetakan status\n",
        "status_mapping = {\n",
        "    'delivered': 'Finished',\n",
        "    'shipped': 'Unfinised',\n",
        "    'invoiced': 'Unfinised',\n",
        "    'processing': 'Unfinised',\n",
        "    'approved': 'Unfinised',\n",
        "    'canceled': 'Finished',\n",
        "    'unavailable': 'Unfinised'\n",
        "}\n",
        "all_merged['order_status'] = all_merged['order_status'].replace(status_mapping)\n",
        "\n",
        "# Menghitung kategori\n",
        "category_counts = all_merged['order_status'].value_counts()\n",
        "\n",
        "# Menghitung persentase\n",
        "category_percentages = (category_counts / category_counts.sum()) * 100\n",
        "\n",
        "# Membuat pie chart\n",
        "plt.figure(figsize=(10, 6))\n",
        "plt.pie(category_counts, labels=category_counts.index, autopct='%1.1f%%', colors=['skyblue', 'lightcoral'])\n",
        "\n",
        "# Menambahkan judul\n",
        "plt.title('Status Order berdasarkan banyaknya Order')\n",
        "plt.show()\n"
      ]
    },
    {
      "cell_type": "markdown",
      "metadata": {},
      "source": [
        "**Perkembangan Order Sampai Saat ini**"
      ]
    },
    {
      "cell_type": "code",
      "execution_count": 37,
      "metadata": {},
      "outputs": [
        {
          "data": {
            "image/png": "[encoded data removed]",
            "text/plain": [
              "<Figure size 1000x600 with 1 Axes>"
            ]
          },
          "metadata": {},
          "output_type": "display_data"
        }
      ],
      "source": [
        "order_growth = order_per_year = all_merged.groupby(all_merged['order_approved_at'].dt.year)['order_id'].count()\n",
        "# Membuat line chart\n",
        "plt.figure(figsize=(10, 6))\n",
        "order_growth.plot(kind='line', marker='o', color='blue', linestyle='-')\n",
        "\n",
        "# Menambahkan judul dan label sumbu\n",
        "plt.title('Pertumbuhan Order per Tahun')\n",
        "plt.xlabel('Tahun')\n",
        "plt.ylabel('Jumlah Order')\n",
        "\n",
        "# Menampilkan line chart\n",
        "plt.grid(True)\n",
        "plt.show()"
      ]
    },
    {
      "cell_type": "markdown",
      "metadata": {},
      "source": [
        "**Persebaran Rating pada Order Review**"
      ]
    },
    {
      "cell_type": "code",
      "execution_count": 38,
      "metadata": {},
      "outputs": [
        {
          "data": {
            "image/png": "[encoded data removed]",
            "text/plain": [
              "<Figure size 1000x500 with 1 Axes>"
            ]
          },
          "metadata": {},
          "output_type": "display_data"
        }
      ],
      "source": [
        "review_orders = all_merged.groupby(by=\"review_score\").order_id.nunique()\n",
        "filtered_review_orders = review_orders[review_orders.index != 0]\n",
        "plt.figure(figsize=(10, 5))\n",
        "filtered_review_orders.plot(kind='pie', color='blue')\n",
        "plt.title(\"Persebaran Rating pada Orders\")\n",
        "plt.ylabel(\" \")\n",
        "plt.show()"
      ]
    },
    {
      "cell_type": "markdown",
      "metadata": {},
      "source": [
        "**Mengetahui Category terbaik dan terburuk**"
      ]
    },
    {
      "cell_type": "code",
      "execution_count": 39,
      "metadata": {},
      "outputs": [
        {
          "data": {
            "image/png": "[encoded data removed]",
            "text/plain": [
              "<Figure size 1000x500 with 1 Axes>"
            ]
          },
          "metadata": {},
          "output_type": "display_data"
        },
        {
          "data": {
            "image/png": "[encoded data removed]",
            "text/plain": [
              "<Figure size 1000x500 with 1 Axes>"
            ]
          },
          "metadata": {},
          "output_type": "display_data"
        }
      ],
      "source": [
        "\n",
        "category_order_counts = all_merged.groupby('product_category_name_english')['order_id'].count().sort_values(ascending=False)\n",
        "\n",
        "best_category = category_order_counts.head(5)\n",
        "worst_category = category_order_counts.tail(5)\n",
        "\n",
        "plt.figure(figsize=(10, 5))\n",
        "best_category.plot(kind='barh', color='green')\n",
        "plt.title(\"Top 5 Category berdasarkan order terbanyak\")\n",
        "plt.xlabel(\"Jumlah Pelanggan Unik\")\n",
        "plt.ylabel(\"Category\")\n",
        "plt.gca().invert_yaxis()\n",
        "plt.show()\n",
        "\n",
        "# Membuat plot untuk Worst 5\n",
        "plt.figure(figsize=(10, 5))\n",
        "worst_category.plot(kind='barh', color='red')\n",
        "plt.title(\"Bottom 5 Category berdasarkan order paling sedikit\")\n",
        "plt.xlabel(\"Jumlah Pelanggan Unik\")\n",
        "plt.ylabel(\"Category\")\n",
        "plt.gca().invert_yaxis()\n",
        "plt.show()"
      ]
    },
    {
      "cell_type": "markdown",
      "metadata": {},
      "source": [
        "**Mengetahui Negara Customer yang melakukan Order paling banyak**"
      ]
    },
    {
      "cell_type": "code",
      "execution_count": 40,
      "metadata": {},
      "outputs": [
        {
          "data": {
            "text/plain": [
              "<Figure size 1200x800 with 0 Axes>"
            ]
          },
          "metadata": {},
          "output_type": "display_data"
        },
        {
          "data": {
            "image/png": "[encoded data removed]",
            "text/plain": [
              "<Figure size 1000x500 with 1 Axes>"
            ]
          },
          "metadata": {},
          "output_type": "display_data"
        },
        {
          "data": {
            "image/png": "[encoded data removed]",
            "text/plain": [
              "<Figure size 1000x500 with 1 Axes>"
            ]
          },
          "metadata": {},
          "output_type": "display_data"
        }
      ],
      "source": [
        "plt.figure(figsize=(12, 8))\n",
        "cus_state_perform = all_merged.groupby(by=\"customer_state\").customer_id.nunique().sort_values(ascending=False)\n",
        "filtered_customers_state = cus_state_perform[cus_state_perform.index != 'Unknown']\n",
        "\n",
        "best_state = filtered_customers_state.head(5)\n",
        "worst_state = filtered_customers_state.tail(5)\n",
        "\n",
        "plt.figure(figsize=(10, 5))\n",
        "best_state.plot(kind='bar', color='green')\n",
        "plt.title(\"Top 5 Negara Bagian dengan Jumlah Pelanggan Unik Terbanyak\")\n",
        "plt.xlabel(\"Jumlah Pelanggan Unik\")\n",
        "plt.ylabel(\"Negara Bagian\")\n",
        "plt.show()\n",
        "\n",
        "# Membuat plot untuk Worst 5\n",
        "plt.figure(figsize=(10, 5))\n",
        "worst_state.plot(kind='bar', color='red')\n",
        "plt.title(\"Bottom 5 Negara Bagian dengan Jumlah Pelanggan Unik Tersedikit\")\n",
        "plt.xlabel(\"Jumlah Pelanggan Unik\")\n",
        "plt.ylabel(\"Negara Bagian\")\n",
        "plt.show()"
      ]
    },
    {
      "cell_type": "markdown",
      "metadata": {},
      "source": [
        "**Berapa Jumlah Hari Order Terakhir terjadi ?**"
      ]
    },
    {
      "cell_type": "code",
      "execution_count": 41,
      "metadata": {},
      "outputs": [
        {
          "name": "stdout",
          "output_type": "stream",
          "text": [
            "The last transaction occurred on: 2018-09-03 17:40:06\n",
            "Number of days since the last transaction: 2245 days\n"
          ]
        }
      ],
      "source": [
        "print(f\"The last transaction occurred on: {last_transaction_date}\")\n",
        "print(f\"Number of days since the last transaction: {days_since_last_transaction} days\")"
      ]
    },
    {
      "cell_type": "code",
      "execution_count": 42,
      "metadata": {},
      "outputs": [],
      "source": [
        "#all_merged.to_csv('main_data.csv')"
      ]
    },
    {
      "cell_type": "markdown",
      "metadata": {
        "id": "9y4VUsmcYNZ5"
      },
      "source": [
        "## Analisis Lanjutan (Opsional)"
      ]
    },
    {
      "cell_type": "markdown",
      "metadata": {},
      "source": [
        "Menggunakan RFM Analysis untuk menghasilkan insight terhadap pembelian\n",
        "- Recency: How recently a customer made a purchase.\n",
        "- Frequency: How often a customer makes a purchase.\n",
        "- Monetary: How much a customer spends."
      ]
    },
    {
      "cell_type": "code",
      "execution_count": 43,
      "metadata": {
        "id": "iWhnzsJGYUCO"
      },
      "outputs": [
        {
          "data": {
            "text/html": [
              "<div>\n",
              "<style scoped>\n",
              "    .dataframe tbody tr th:only-of-type {\n",
              "        vertical-align: middle;\n",
              "    }\n",
              "\n",
              "    .dataframe tbody tr th {\n",
              "        vertical-align: top;\n",
              "    }\n",
              "\n",
              "    .dataframe thead th {\n",
              "        text-align: right;\n",
              "    }\n",
              "</style>\n",
              "<table border=\"1\" class=\"dataframe\">\n",
              "  <thead>\n",
              "    <tr style=\"text-align: right;\">\n",
              "      <th></th>\n",
              "      <th>customer_id</th>\n",
              "      <th>Recency</th>\n",
              "      <th>Frequency</th>\n",
              "      <th>Monetary</th>\n",
              "    </tr>\n",
              "  </thead>\n",
              "  <tbody>\n",
              "    <tr>\n",
              "      <th>0</th>\n",
              "      <td>00012a2ce6f8dcda20d059ce98491703</td>\n",
              "      <td>287</td>\n",
              "      <td>1</td>\n",
              "      <td>89.80</td>\n",
              "    </tr>\n",
              "    <tr>\n",
              "      <th>1</th>\n",
              "      <td>000161a058600d5901f007fab4c27140</td>\n",
              "      <td>409</td>\n",
              "      <td>1</td>\n",
              "      <td>54.90</td>\n",
              "    </tr>\n",
              "    <tr>\n",
              "      <th>2</th>\n",
              "      <td>0001fd6190edaaf884bcaf3d49edf079</td>\n",
              "      <td>547</td>\n",
              "      <td>1</td>\n",
              "      <td>179.99</td>\n",
              "    </tr>\n",
              "    <tr>\n",
              "      <th>3</th>\n",
              "      <td>0002414f95344307404f0ace7a26f1d5</td>\n",
              "      <td>377</td>\n",
              "      <td>1</td>\n",
              "      <td>149.90</td>\n",
              "    </tr>\n",
              "    <tr>\n",
              "      <th>4</th>\n",
              "      <td>000379cdec625522490c315e70c7a9fb</td>\n",
              "      <td>147</td>\n",
              "      <td>1</td>\n",
              "      <td>93.00</td>\n",
              "    </tr>\n",
              "  </tbody>\n",
              "</table>\n",
              "</div>"
            ],
            "text/plain": [
              "                        customer_id  Recency  Frequency  Monetary\n",
              "0  00012a2ce6f8dcda20d059ce98491703      287          1     89.80\n",
              "1  000161a058600d5901f007fab4c27140      409          1     54.90\n",
              "2  0001fd6190edaaf884bcaf3d49edf079      547          1    179.99\n",
              "3  0002414f95344307404f0ace7a26f1d5      377          1    149.90\n",
              "4  000379cdec625522490c315e70c7a9fb      147          1     93.00"
            ]
          },
          "execution_count": 43,
          "metadata": {},
          "output_type": "execute_result"
        }
      ],
      "source": [
        "completed_orders = all_merged[all_merged['order_status'] == 'Finished'] # Filter untuk mengkalkulasi hanya jika order_status adalah Finished\n",
        "\n",
        "reference_date = completed_orders['order_approved_at'].max() #Set hari terakhir transaksi\n",
        "\n",
        "#RFM metrics\n",
        "rfm_data = completed_orders.groupby('customer_id').agg({\n",
        "    'order_approved_at': lambda x: (reference_date - x.max()).days,  # Recency\n",
        "    'order_id': 'nunique',                                           # Frequency\n",
        "    'price': 'sum'                                                   # Monetary\n",
        "}).reset_index()\n",
        "\n",
        "# Rename columns for clarity\n",
        "rfm_data.columns = ['customer_id', 'Recency', 'Frequency', 'Monetary']\n",
        "rfm_data.head()"
      ]
    },
    {
      "cell_type": "code",
      "execution_count": 62,
      "metadata": {},
      "outputs": [
        {
          "data": {
            "image/png": "[encoded data removed]",
            "text/plain": [
              "<Figure size 1400x1000 with 3 Axes>"
            ]
          },
          "metadata": {},
          "output_type": "display_data"
        }
      ],
      "source": [
        "\n",
        "sns.set(style=\"whitegrid\")\n",
        "fig, axes = plt.subplots(3, figsize=(14, 10))\n",
        "\n",
        "# Histogram for Recency\n",
        "sns.histplot(rfm_data['Recency'], bins=30, kde=True, color='skyblue', ax=axes[0])\n",
        "axes[0].set_title('Recency Distribution')\n",
        "axes[0].set_xlabel('Days Since Last Purchase')\n",
        "\n",
        "# Histogram for Frequency\n",
        "sns.histplot(rfm_data['Frequency'], bins=30, kde=True, color='salmon', ax=axes[1])\n",
        "axes[1].set_title('Frequency Distribution')\n",
        "axes[1].set_xlabel('Number of Purchases')\n",
        "\n",
        "# Histogram for Monetary\n",
        "sns.histplot(rfm_data['Monetary'], bins=30, kde=True, color='lightgreen', ax=axes[2])\n",
        "axes[2].set_title('Monetary Distribution')\n",
        "axes[2].set_xlabel('Total Spend')\n",
        "\n",
        "\n",
        "\n",
        "plt.tight_layout()\n",
        "plt.show()\n"
      ]
    },
    {
      "cell_type": "code",
      "execution_count": 45,
      "metadata": {},
      "outputs": [],
      "source": [
        "# Filter dataset for valid lat/lng\n",
        "location_data = all_merged[(all_merged['customer_lat'] != 0) & (all_merged['customer_lng'] != 0)]\n",
        "\n",
        "# Calculate central location for the map view\n",
        "mean_lat = location_data['customer_lat'].mean()\n",
        "mean_lng = location_data['customer_lng'].mean()\n",
        "\n",
        "\n",
        "m = folium.Map(location=[mean_lat, mean_lng], zoom_start=5)\n",
        "\n",
        "for _, row in location_data.iterrows():\n",
        "    folium.Marker(\n",
        "        location=[row['customer_lat'], row['customer_lng']],\n",
        "        popup=f\"Customer ID: {row['customer_id']}\",\n",
        "        icon=folium.Icon(color='blue', icon='info-sign')\n",
        "    ).add_to(m)\n",
        "\n",
        "m"
      ]
    },
    {
      "cell_type": "markdown",
      "metadata": {
        "id": "_WeHlCeX8DC2"
      },
      "source": [
        "## Conclusion"
      ]
    },
    {
      "cell_type": "markdown",
      "metadata": {
        "id": "ZTcyR48Y8DC2"
      },
      "source": [
        "- Jumlah User Saat ini adalah \n",
        "- Berdasarkan status order, **98.3%** proses order sudah selesai. Dan **1.7%** order sedang berlangsung \n",
        "- Perkembangan Order setiap tahun selalu bertambah, dari **2016 hanya 332 order**, sampai terjadi kenaikan drastis pada tahun **2017 sehingga terjadi 46380 order**. Kenaikan order juga terjadi pada tahun selanjutnya yaitu **2018 hingga 55926 order**\n",
        "- Persebaran Order Review sampai saat ini masih didominasi oleh Rating 5 sehingga dapat disimpulkan bahwa **pelanggan puas dengan order yang terjadi**\n",
        "- Kategory terbaik adalah **bed_bath_table** yang berhasil terjual sebanyak **10220 items** & Kategory terburuk adalah **security_and_services** yang hanya berhasil terjual sebanyak **2 items**\n",
        "- State yang melakukan order terbanyak adalah **San Paolu** dengan Order sebanyak **5548** dan State yang melakukan order paling sedikit adalah **Roraima** dengan order sebanyak **15**\n",
        "- Berdasarkan analysis order terakhir terjadi pada tanggal **2018-09-03** yang berarti sudah **2245 hari** semenjak order terakhir terjadi"
      ]
    },
    {
      "cell_type": "markdown",
      "metadata": {},
      "source": [
        "RFM Conculusion:\\\n",
        "Recency:\\\n",
        "Recency digunakan untuk mengetahui jumlah hari transaksi yang pelanggan lakukan terakhir kali. Jika grafik menunjukkan Skewed menuju low value, berarti terdapat beberapa pelanggan yang baru saja malekukan pemesanan\n",
        "\n",
        "Frequency:\\\n",
        "Frequency digunakan untuk mengetahui jumlah transaksi yang biasanya pelanggan gunakan. Dalam grafik dapat disimpulkan bahwa pelanggan hanya melakukan 1 kali transaksi\n",
        "\n",
        "Monetary:\\\n",
        "Monetary digunakan untuk mengetahui jumlah pengeluaran yang dilakukan pelanggan. Kelompok pelanggan yang melakukan monetary sedikit sebaiknya diberikan promo bundling, sementara kelompok pelanggan yang melakukan monetary besar sebaiknya diberikan diskon"
      ]
    }
  ],
  "metadata": {
    "colab": {
      "collapsed_sections": [
        "sXU2GBYu8DC1"
      ],
      "provenance": []
    },
    "kernelspec": {
      "display_name": "main-ds",
      "language": "python",
      "name": "python3"
    },
    "language_info": {
      "codemirror_mode": {
        "name": "ipython",
        "version": 3
      },
      "file_extension": ".py",
      "mimetype": "text/x-python",
      "name": "python",
      "nbconvert_exporter": "python",
      "pygments_lexer": "ipython3",
      "version": "3.9.20"
    },
    "orig_nbformat": 4
  },
  "nbformat": 4,
  "nbformat_minor": 0
}
